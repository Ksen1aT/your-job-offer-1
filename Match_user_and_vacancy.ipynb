{
  "nbformat": 4,
  "nbformat_minor": 0,
  "metadata": {
    "colab": {
      "provenance": [],
      "authorship_tag": "ABX9TyM/eAnf1YZ4kDa4N/IjYRUs",
      "include_colab_link": true
    },
    "kernelspec": {
      "name": "python3",
      "display_name": "Python 3"
    },
    "language_info": {
      "name": "python"
    },
    "widgets": {
      "application/vnd.jupyter.widget-state+json": {
        "cdbe42dad2c54049be20b579d5861ce1": {
          "model_module": "@jupyter-widgets/controls",
          "model_name": "HBoxModel",
          "model_module_version": "1.5.0",
          "state": {
            "_dom_classes": [],
            "_model_module": "@jupyter-widgets/controls",
            "_model_module_version": "1.5.0",
            "_model_name": "HBoxModel",
            "_view_count": null,
            "_view_module": "@jupyter-widgets/controls",
            "_view_module_version": "1.5.0",
            "_view_name": "HBoxView",
            "box_style": "",
            "children": [
              "IPY_MODEL_b1c35f3bbd8d4f26a39dc54412a56aba",
              "IPY_MODEL_c7d0cb080aae4005919dfcaba499a39b",
              "IPY_MODEL_e9115762b47f47eaad94da5dbae3f69f"
            ],
            "layout": "IPY_MODEL_49c52471b49b44e39831aaac378d3f17"
          }
        },
        "b1c35f3bbd8d4f26a39dc54412a56aba": {
          "model_module": "@jupyter-widgets/controls",
          "model_name": "HTMLModel",
          "model_module_version": "1.5.0",
          "state": {
            "_dom_classes": [],
            "_model_module": "@jupyter-widgets/controls",
            "_model_module_version": "1.5.0",
            "_model_name": "HTMLModel",
            "_view_count": null,
            "_view_module": "@jupyter-widgets/controls",
            "_view_module_version": "1.5.0",
            "_view_name": "HTMLView",
            "description": "",
            "description_tooltip": null,
            "layout": "IPY_MODEL_078336310ac147be9b2c2654f5009851",
            "placeholder": "​",
            "style": "IPY_MODEL_56186302996840f6be3183afdbdd402c",
            "value": "tokenizer_config.json: 100%"
          }
        },
        "c7d0cb080aae4005919dfcaba499a39b": {
          "model_module": "@jupyter-widgets/controls",
          "model_name": "FloatProgressModel",
          "model_module_version": "1.5.0",
          "state": {
            "_dom_classes": [],
            "_model_module": "@jupyter-widgets/controls",
            "_model_module_version": "1.5.0",
            "_model_name": "FloatProgressModel",
            "_view_count": null,
            "_view_module": "@jupyter-widgets/controls",
            "_view_module_version": "1.5.0",
            "_view_name": "ProgressView",
            "bar_style": "success",
            "description": "",
            "description_tooltip": null,
            "layout": "IPY_MODEL_d741e1a645e8487089879b26ee724f36",
            "max": 49,
            "min": 0,
            "orientation": "horizontal",
            "style": "IPY_MODEL_25645412acbd4de8b6bb277dacce58ce",
            "value": 49
          }
        },
        "e9115762b47f47eaad94da5dbae3f69f": {
          "model_module": "@jupyter-widgets/controls",
          "model_name": "HTMLModel",
          "model_module_version": "1.5.0",
          "state": {
            "_dom_classes": [],
            "_model_module": "@jupyter-widgets/controls",
            "_model_module_version": "1.5.0",
            "_model_name": "HTMLModel",
            "_view_count": null,
            "_view_module": "@jupyter-widgets/controls",
            "_view_module_version": "1.5.0",
            "_view_name": "HTMLView",
            "description": "",
            "description_tooltip": null,
            "layout": "IPY_MODEL_d44eb94963a4440ca5ee06e9472588b3",
            "placeholder": "​",
            "style": "IPY_MODEL_2fc0e3d5ae264ddf9ae6c10a6729986d",
            "value": " 49.0/49.0 [00:00&lt;00:00, 1.35kB/s]"
          }
        },
        "49c52471b49b44e39831aaac378d3f17": {
          "model_module": "@jupyter-widgets/base",
          "model_name": "LayoutModel",
          "model_module_version": "1.2.0",
          "state": {
            "_model_module": "@jupyter-widgets/base",
            "_model_module_version": "1.2.0",
            "_model_name": "LayoutModel",
            "_view_count": null,
            "_view_module": "@jupyter-widgets/base",
            "_view_module_version": "1.2.0",
            "_view_name": "LayoutView",
            "align_content": null,
            "align_items": null,
            "align_self": null,
            "border": null,
            "bottom": null,
            "display": null,
            "flex": null,
            "flex_flow": null,
            "grid_area": null,
            "grid_auto_columns": null,
            "grid_auto_flow": null,
            "grid_auto_rows": null,
            "grid_column": null,
            "grid_gap": null,
            "grid_row": null,
            "grid_template_areas": null,
            "grid_template_columns": null,
            "grid_template_rows": null,
            "height": null,
            "justify_content": null,
            "justify_items": null,
            "left": null,
            "margin": null,
            "max_height": null,
            "max_width": null,
            "min_height": null,
            "min_width": null,
            "object_fit": null,
            "object_position": null,
            "order": null,
            "overflow": null,
            "overflow_x": null,
            "overflow_y": null,
            "padding": null,
            "right": null,
            "top": null,
            "visibility": null,
            "width": null
          }
        },
        "078336310ac147be9b2c2654f5009851": {
          "model_module": "@jupyter-widgets/base",
          "model_name": "LayoutModel",
          "model_module_version": "1.2.0",
          "state": {
            "_model_module": "@jupyter-widgets/base",
            "_model_module_version": "1.2.0",
            "_model_name": "LayoutModel",
            "_view_count": null,
            "_view_module": "@jupyter-widgets/base",
            "_view_module_version": "1.2.0",
            "_view_name": "LayoutView",
            "align_content": null,
            "align_items": null,
            "align_self": null,
            "border": null,
            "bottom": null,
            "display": null,
            "flex": null,
            "flex_flow": null,
            "grid_area": null,
            "grid_auto_columns": null,
            "grid_auto_flow": null,
            "grid_auto_rows": null,
            "grid_column": null,
            "grid_gap": null,
            "grid_row": null,
            "grid_template_areas": null,
            "grid_template_columns": null,
            "grid_template_rows": null,
            "height": null,
            "justify_content": null,
            "justify_items": null,
            "left": null,
            "margin": null,
            "max_height": null,
            "max_width": null,
            "min_height": null,
            "min_width": null,
            "object_fit": null,
            "object_position": null,
            "order": null,
            "overflow": null,
            "overflow_x": null,
            "overflow_y": null,
            "padding": null,
            "right": null,
            "top": null,
            "visibility": null,
            "width": null
          }
        },
        "56186302996840f6be3183afdbdd402c": {
          "model_module": "@jupyter-widgets/controls",
          "model_name": "DescriptionStyleModel",
          "model_module_version": "1.5.0",
          "state": {
            "_model_module": "@jupyter-widgets/controls",
            "_model_module_version": "1.5.0",
            "_model_name": "DescriptionStyleModel",
            "_view_count": null,
            "_view_module": "@jupyter-widgets/base",
            "_view_module_version": "1.2.0",
            "_view_name": "StyleView",
            "description_width": ""
          }
        },
        "d741e1a645e8487089879b26ee724f36": {
          "model_module": "@jupyter-widgets/base",
          "model_name": "LayoutModel",
          "model_module_version": "1.2.0",
          "state": {
            "_model_module": "@jupyter-widgets/base",
            "_model_module_version": "1.2.0",
            "_model_name": "LayoutModel",
            "_view_count": null,
            "_view_module": "@jupyter-widgets/base",
            "_view_module_version": "1.2.0",
            "_view_name": "LayoutView",
            "align_content": null,
            "align_items": null,
            "align_self": null,
            "border": null,
            "bottom": null,
            "display": null,
            "flex": null,
            "flex_flow": null,
            "grid_area": null,
            "grid_auto_columns": null,
            "grid_auto_flow": null,
            "grid_auto_rows": null,
            "grid_column": null,
            "grid_gap": null,
            "grid_row": null,
            "grid_template_areas": null,
            "grid_template_columns": null,
            "grid_template_rows": null,
            "height": null,
            "justify_content": null,
            "justify_items": null,
            "left": null,
            "margin": null,
            "max_height": null,
            "max_width": null,
            "min_height": null,
            "min_width": null,
            "object_fit": null,
            "object_position": null,
            "order": null,
            "overflow": null,
            "overflow_x": null,
            "overflow_y": null,
            "padding": null,
            "right": null,
            "top": null,
            "visibility": null,
            "width": null
          }
        },
        "25645412acbd4de8b6bb277dacce58ce": {
          "model_module": "@jupyter-widgets/controls",
          "model_name": "ProgressStyleModel",
          "model_module_version": "1.5.0",
          "state": {
            "_model_module": "@jupyter-widgets/controls",
            "_model_module_version": "1.5.0",
            "_model_name": "ProgressStyleModel",
            "_view_count": null,
            "_view_module": "@jupyter-widgets/base",
            "_view_module_version": "1.2.0",
            "_view_name": "StyleView",
            "bar_color": null,
            "description_width": ""
          }
        },
        "d44eb94963a4440ca5ee06e9472588b3": {
          "model_module": "@jupyter-widgets/base",
          "model_name": "LayoutModel",
          "model_module_version": "1.2.0",
          "state": {
            "_model_module": "@jupyter-widgets/base",
            "_model_module_version": "1.2.0",
            "_model_name": "LayoutModel",
            "_view_count": null,
            "_view_module": "@jupyter-widgets/base",
            "_view_module_version": "1.2.0",
            "_view_name": "LayoutView",
            "align_content": null,
            "align_items": null,
            "align_self": null,
            "border": null,
            "bottom": null,
            "display": null,
            "flex": null,
            "flex_flow": null,
            "grid_area": null,
            "grid_auto_columns": null,
            "grid_auto_flow": null,
            "grid_auto_rows": null,
            "grid_column": null,
            "grid_gap": null,
            "grid_row": null,
            "grid_template_areas": null,
            "grid_template_columns": null,
            "grid_template_rows": null,
            "height": null,
            "justify_content": null,
            "justify_items": null,
            "left": null,
            "margin": null,
            "max_height": null,
            "max_width": null,
            "min_height": null,
            "min_width": null,
            "object_fit": null,
            "object_position": null,
            "order": null,
            "overflow": null,
            "overflow_x": null,
            "overflow_y": null,
            "padding": null,
            "right": null,
            "top": null,
            "visibility": null,
            "width": null
          }
        },
        "2fc0e3d5ae264ddf9ae6c10a6729986d": {
          "model_module": "@jupyter-widgets/controls",
          "model_name": "DescriptionStyleModel",
          "model_module_version": "1.5.0",
          "state": {
            "_model_module": "@jupyter-widgets/controls",
            "_model_module_version": "1.5.0",
            "_model_name": "DescriptionStyleModel",
            "_view_count": null,
            "_view_module": "@jupyter-widgets/base",
            "_view_module_version": "1.2.0",
            "_view_name": "StyleView",
            "description_width": ""
          }
        },
        "42fa9045604d4223993bc6ec44d6fba0": {
          "model_module": "@jupyter-widgets/controls",
          "model_name": "HBoxModel",
          "model_module_version": "1.5.0",
          "state": {
            "_dom_classes": [],
            "_model_module": "@jupyter-widgets/controls",
            "_model_module_version": "1.5.0",
            "_model_name": "HBoxModel",
            "_view_count": null,
            "_view_module": "@jupyter-widgets/controls",
            "_view_module_version": "1.5.0",
            "_view_name": "HBoxView",
            "box_style": "",
            "children": [
              "IPY_MODEL_f49d3a9e29024828a3d85dc989d561d0",
              "IPY_MODEL_233578f8505448ae8c4cd81f0b82665f",
              "IPY_MODEL_876c969f857d4fed89214330dfaadaff"
            ],
            "layout": "IPY_MODEL_083b3071f19f48b28cad62ea77a6b2f0"
          }
        },
        "f49d3a9e29024828a3d85dc989d561d0": {
          "model_module": "@jupyter-widgets/controls",
          "model_name": "HTMLModel",
          "model_module_version": "1.5.0",
          "state": {
            "_dom_classes": [],
            "_model_module": "@jupyter-widgets/controls",
            "_model_module_version": "1.5.0",
            "_model_name": "HTMLModel",
            "_view_count": null,
            "_view_module": "@jupyter-widgets/controls",
            "_view_module_version": "1.5.0",
            "_view_name": "HTMLView",
            "description": "",
            "description_tooltip": null,
            "layout": "IPY_MODEL_8963a3a99efd44f3917de0958bb17e59",
            "placeholder": "​",
            "style": "IPY_MODEL_1f53e43d2f014b5b81f2e72d49c9dd69",
            "value": "config.json: 100%"
          }
        },
        "233578f8505448ae8c4cd81f0b82665f": {
          "model_module": "@jupyter-widgets/controls",
          "model_name": "FloatProgressModel",
          "model_module_version": "1.5.0",
          "state": {
            "_dom_classes": [],
            "_model_module": "@jupyter-widgets/controls",
            "_model_module_version": "1.5.0",
            "_model_name": "FloatProgressModel",
            "_view_count": null,
            "_view_module": "@jupyter-widgets/controls",
            "_view_module_version": "1.5.0",
            "_view_name": "ProgressView",
            "bar_style": "success",
            "description": "",
            "description_tooltip": null,
            "layout": "IPY_MODEL_7e4ece9996af4bbfb74abde0f41f5408",
            "max": 625,
            "min": 0,
            "orientation": "horizontal",
            "style": "IPY_MODEL_dfc54ead89cb42208bea47df3363a1fd",
            "value": 625
          }
        },
        "876c969f857d4fed89214330dfaadaff": {
          "model_module": "@jupyter-widgets/controls",
          "model_name": "HTMLModel",
          "model_module_version": "1.5.0",
          "state": {
            "_dom_classes": [],
            "_model_module": "@jupyter-widgets/controls",
            "_model_module_version": "1.5.0",
            "_model_name": "HTMLModel",
            "_view_count": null,
            "_view_module": "@jupyter-widgets/controls",
            "_view_module_version": "1.5.0",
            "_view_name": "HTMLView",
            "description": "",
            "description_tooltip": null,
            "layout": "IPY_MODEL_d12cc2bef9e242cc839923a42f9d144b",
            "placeholder": "​",
            "style": "IPY_MODEL_e338b1da27e649dbbd88ebec6928d7d5",
            "value": " 625/625 [00:00&lt;00:00, 16.1kB/s]"
          }
        },
        "083b3071f19f48b28cad62ea77a6b2f0": {
          "model_module": "@jupyter-widgets/base",
          "model_name": "LayoutModel",
          "model_module_version": "1.2.0",
          "state": {
            "_model_module": "@jupyter-widgets/base",
            "_model_module_version": "1.2.0",
            "_model_name": "LayoutModel",
            "_view_count": null,
            "_view_module": "@jupyter-widgets/base",
            "_view_module_version": "1.2.0",
            "_view_name": "LayoutView",
            "align_content": null,
            "align_items": null,
            "align_self": null,
            "border": null,
            "bottom": null,
            "display": null,
            "flex": null,
            "flex_flow": null,
            "grid_area": null,
            "grid_auto_columns": null,
            "grid_auto_flow": null,
            "grid_auto_rows": null,
            "grid_column": null,
            "grid_gap": null,
            "grid_row": null,
            "grid_template_areas": null,
            "grid_template_columns": null,
            "grid_template_rows": null,
            "height": null,
            "justify_content": null,
            "justify_items": null,
            "left": null,
            "margin": null,
            "max_height": null,
            "max_width": null,
            "min_height": null,
            "min_width": null,
            "object_fit": null,
            "object_position": null,
            "order": null,
            "overflow": null,
            "overflow_x": null,
            "overflow_y": null,
            "padding": null,
            "right": null,
            "top": null,
            "visibility": null,
            "width": null
          }
        },
        "8963a3a99efd44f3917de0958bb17e59": {
          "model_module": "@jupyter-widgets/base",
          "model_name": "LayoutModel",
          "model_module_version": "1.2.0",
          "state": {
            "_model_module": "@jupyter-widgets/base",
            "_model_module_version": "1.2.0",
            "_model_name": "LayoutModel",
            "_view_count": null,
            "_view_module": "@jupyter-widgets/base",
            "_view_module_version": "1.2.0",
            "_view_name": "LayoutView",
            "align_content": null,
            "align_items": null,
            "align_self": null,
            "border": null,
            "bottom": null,
            "display": null,
            "flex": null,
            "flex_flow": null,
            "grid_area": null,
            "grid_auto_columns": null,
            "grid_auto_flow": null,
            "grid_auto_rows": null,
            "grid_column": null,
            "grid_gap": null,
            "grid_row": null,
            "grid_template_areas": null,
            "grid_template_columns": null,
            "grid_template_rows": null,
            "height": null,
            "justify_content": null,
            "justify_items": null,
            "left": null,
            "margin": null,
            "max_height": null,
            "max_width": null,
            "min_height": null,
            "min_width": null,
            "object_fit": null,
            "object_position": null,
            "order": null,
            "overflow": null,
            "overflow_x": null,
            "overflow_y": null,
            "padding": null,
            "right": null,
            "top": null,
            "visibility": null,
            "width": null
          }
        },
        "1f53e43d2f014b5b81f2e72d49c9dd69": {
          "model_module": "@jupyter-widgets/controls",
          "model_name": "DescriptionStyleModel",
          "model_module_version": "1.5.0",
          "state": {
            "_model_module": "@jupyter-widgets/controls",
            "_model_module_version": "1.5.0",
            "_model_name": "DescriptionStyleModel",
            "_view_count": null,
            "_view_module": "@jupyter-widgets/base",
            "_view_module_version": "1.2.0",
            "_view_name": "StyleView",
            "description_width": ""
          }
        },
        "7e4ece9996af4bbfb74abde0f41f5408": {
          "model_module": "@jupyter-widgets/base",
          "model_name": "LayoutModel",
          "model_module_version": "1.2.0",
          "state": {
            "_model_module": "@jupyter-widgets/base",
            "_model_module_version": "1.2.0",
            "_model_name": "LayoutModel",
            "_view_count": null,
            "_view_module": "@jupyter-widgets/base",
            "_view_module_version": "1.2.0",
            "_view_name": "LayoutView",
            "align_content": null,
            "align_items": null,
            "align_self": null,
            "border": null,
            "bottom": null,
            "display": null,
            "flex": null,
            "flex_flow": null,
            "grid_area": null,
            "grid_auto_columns": null,
            "grid_auto_flow": null,
            "grid_auto_rows": null,
            "grid_column": null,
            "grid_gap": null,
            "grid_row": null,
            "grid_template_areas": null,
            "grid_template_columns": null,
            "grid_template_rows": null,
            "height": null,
            "justify_content": null,
            "justify_items": null,
            "left": null,
            "margin": null,
            "max_height": null,
            "max_width": null,
            "min_height": null,
            "min_width": null,
            "object_fit": null,
            "object_position": null,
            "order": null,
            "overflow": null,
            "overflow_x": null,
            "overflow_y": null,
            "padding": null,
            "right": null,
            "top": null,
            "visibility": null,
            "width": null
          }
        },
        "dfc54ead89cb42208bea47df3363a1fd": {
          "model_module": "@jupyter-widgets/controls",
          "model_name": "ProgressStyleModel",
          "model_module_version": "1.5.0",
          "state": {
            "_model_module": "@jupyter-widgets/controls",
            "_model_module_version": "1.5.0",
            "_model_name": "ProgressStyleModel",
            "_view_count": null,
            "_view_module": "@jupyter-widgets/base",
            "_view_module_version": "1.2.0",
            "_view_name": "StyleView",
            "bar_color": null,
            "description_width": ""
          }
        },
        "d12cc2bef9e242cc839923a42f9d144b": {
          "model_module": "@jupyter-widgets/base",
          "model_name": "LayoutModel",
          "model_module_version": "1.2.0",
          "state": {
            "_model_module": "@jupyter-widgets/base",
            "_model_module_version": "1.2.0",
            "_model_name": "LayoutModel",
            "_view_count": null,
            "_view_module": "@jupyter-widgets/base",
            "_view_module_version": "1.2.0",
            "_view_name": "LayoutView",
            "align_content": null,
            "align_items": null,
            "align_self": null,
            "border": null,
            "bottom": null,
            "display": null,
            "flex": null,
            "flex_flow": null,
            "grid_area": null,
            "grid_auto_columns": null,
            "grid_auto_flow": null,
            "grid_auto_rows": null,
            "grid_column": null,
            "grid_gap": null,
            "grid_row": null,
            "grid_template_areas": null,
            "grid_template_columns": null,
            "grid_template_rows": null,
            "height": null,
            "justify_content": null,
            "justify_items": null,
            "left": null,
            "margin": null,
            "max_height": null,
            "max_width": null,
            "min_height": null,
            "min_width": null,
            "object_fit": null,
            "object_position": null,
            "order": null,
            "overflow": null,
            "overflow_x": null,
            "overflow_y": null,
            "padding": null,
            "right": null,
            "top": null,
            "visibility": null,
            "width": null
          }
        },
        "e338b1da27e649dbbd88ebec6928d7d5": {
          "model_module": "@jupyter-widgets/controls",
          "model_name": "DescriptionStyleModel",
          "model_module_version": "1.5.0",
          "state": {
            "_model_module": "@jupyter-widgets/controls",
            "_model_module_version": "1.5.0",
            "_model_name": "DescriptionStyleModel",
            "_view_count": null,
            "_view_module": "@jupyter-widgets/base",
            "_view_module_version": "1.2.0",
            "_view_name": "StyleView",
            "description_width": ""
          }
        },
        "b4f16b91b695493aa3f51d5d2922e926": {
          "model_module": "@jupyter-widgets/controls",
          "model_name": "HBoxModel",
          "model_module_version": "1.5.0",
          "state": {
            "_dom_classes": [],
            "_model_module": "@jupyter-widgets/controls",
            "_model_module_version": "1.5.0",
            "_model_name": "HBoxModel",
            "_view_count": null,
            "_view_module": "@jupyter-widgets/controls",
            "_view_module_version": "1.5.0",
            "_view_name": "HBoxView",
            "box_style": "",
            "children": [
              "IPY_MODEL_4ca115b34d1648778576ac3ceff32ef7",
              "IPY_MODEL_a8cfa519980841da8839dbec766e9554",
              "IPY_MODEL_d0fb9bfbc9e64e92b602af9f63ca88e6"
            ],
            "layout": "IPY_MODEL_781f71c04ee74db4a7904088f9640838"
          }
        },
        "4ca115b34d1648778576ac3ceff32ef7": {
          "model_module": "@jupyter-widgets/controls",
          "model_name": "HTMLModel",
          "model_module_version": "1.5.0",
          "state": {
            "_dom_classes": [],
            "_model_module": "@jupyter-widgets/controls",
            "_model_module_version": "1.5.0",
            "_model_name": "HTMLModel",
            "_view_count": null,
            "_view_module": "@jupyter-widgets/controls",
            "_view_module_version": "1.5.0",
            "_view_name": "HTMLView",
            "description": "",
            "description_tooltip": null,
            "layout": "IPY_MODEL_6e7c9b6ae4754570909c3e20affd85e6",
            "placeholder": "​",
            "style": "IPY_MODEL_e3d29ee2eb4c4d8a9270c668f9fdd53c",
            "value": "vocab.txt: 100%"
          }
        },
        "a8cfa519980841da8839dbec766e9554": {
          "model_module": "@jupyter-widgets/controls",
          "model_name": "FloatProgressModel",
          "model_module_version": "1.5.0",
          "state": {
            "_dom_classes": [],
            "_model_module": "@jupyter-widgets/controls",
            "_model_module_version": "1.5.0",
            "_model_name": "FloatProgressModel",
            "_view_count": null,
            "_view_module": "@jupyter-widgets/controls",
            "_view_module_version": "1.5.0",
            "_view_name": "ProgressView",
            "bar_style": "success",
            "description": "",
            "description_tooltip": null,
            "layout": "IPY_MODEL_a0890eb012b54bf8b01009ea72775fa0",
            "max": 995526,
            "min": 0,
            "orientation": "horizontal",
            "style": "IPY_MODEL_8bc101b30f7c44f5879e5b167609fc22",
            "value": 995526
          }
        },
        "d0fb9bfbc9e64e92b602af9f63ca88e6": {
          "model_module": "@jupyter-widgets/controls",
          "model_name": "HTMLModel",
          "model_module_version": "1.5.0",
          "state": {
            "_dom_classes": [],
            "_model_module": "@jupyter-widgets/controls",
            "_model_module_version": "1.5.0",
            "_model_name": "HTMLModel",
            "_view_count": null,
            "_view_module": "@jupyter-widgets/controls",
            "_view_module_version": "1.5.0",
            "_view_name": "HTMLView",
            "description": "",
            "description_tooltip": null,
            "layout": "IPY_MODEL_b83751adee7c4e28a4011b75cf4c976b",
            "placeholder": "​",
            "style": "IPY_MODEL_b44de924a929431cb21539d44291c86b",
            "value": " 996k/996k [00:00&lt;00:00, 6.45MB/s]"
          }
        },
        "781f71c04ee74db4a7904088f9640838": {
          "model_module": "@jupyter-widgets/base",
          "model_name": "LayoutModel",
          "model_module_version": "1.2.0",
          "state": {
            "_model_module": "@jupyter-widgets/base",
            "_model_module_version": "1.2.0",
            "_model_name": "LayoutModel",
            "_view_count": null,
            "_view_module": "@jupyter-widgets/base",
            "_view_module_version": "1.2.0",
            "_view_name": "LayoutView",
            "align_content": null,
            "align_items": null,
            "align_self": null,
            "border": null,
            "bottom": null,
            "display": null,
            "flex": null,
            "flex_flow": null,
            "grid_area": null,
            "grid_auto_columns": null,
            "grid_auto_flow": null,
            "grid_auto_rows": null,
            "grid_column": null,
            "grid_gap": null,
            "grid_row": null,
            "grid_template_areas": null,
            "grid_template_columns": null,
            "grid_template_rows": null,
            "height": null,
            "justify_content": null,
            "justify_items": null,
            "left": null,
            "margin": null,
            "max_height": null,
            "max_width": null,
            "min_height": null,
            "min_width": null,
            "object_fit": null,
            "object_position": null,
            "order": null,
            "overflow": null,
            "overflow_x": null,
            "overflow_y": null,
            "padding": null,
            "right": null,
            "top": null,
            "visibility": null,
            "width": null
          }
        },
        "6e7c9b6ae4754570909c3e20affd85e6": {
          "model_module": "@jupyter-widgets/base",
          "model_name": "LayoutModel",
          "model_module_version": "1.2.0",
          "state": {
            "_model_module": "@jupyter-widgets/base",
            "_model_module_version": "1.2.0",
            "_model_name": "LayoutModel",
            "_view_count": null,
            "_view_module": "@jupyter-widgets/base",
            "_view_module_version": "1.2.0",
            "_view_name": "LayoutView",
            "align_content": null,
            "align_items": null,
            "align_self": null,
            "border": null,
            "bottom": null,
            "display": null,
            "flex": null,
            "flex_flow": null,
            "grid_area": null,
            "grid_auto_columns": null,
            "grid_auto_flow": null,
            "grid_auto_rows": null,
            "grid_column": null,
            "grid_gap": null,
            "grid_row": null,
            "grid_template_areas": null,
            "grid_template_columns": null,
            "grid_template_rows": null,
            "height": null,
            "justify_content": null,
            "justify_items": null,
            "left": null,
            "margin": null,
            "max_height": null,
            "max_width": null,
            "min_height": null,
            "min_width": null,
            "object_fit": null,
            "object_position": null,
            "order": null,
            "overflow": null,
            "overflow_x": null,
            "overflow_y": null,
            "padding": null,
            "right": null,
            "top": null,
            "visibility": null,
            "width": null
          }
        },
        "e3d29ee2eb4c4d8a9270c668f9fdd53c": {
          "model_module": "@jupyter-widgets/controls",
          "model_name": "DescriptionStyleModel",
          "model_module_version": "1.5.0",
          "state": {
            "_model_module": "@jupyter-widgets/controls",
            "_model_module_version": "1.5.0",
            "_model_name": "DescriptionStyleModel",
            "_view_count": null,
            "_view_module": "@jupyter-widgets/base",
            "_view_module_version": "1.2.0",
            "_view_name": "StyleView",
            "description_width": ""
          }
        },
        "a0890eb012b54bf8b01009ea72775fa0": {
          "model_module": "@jupyter-widgets/base",
          "model_name": "LayoutModel",
          "model_module_version": "1.2.0",
          "state": {
            "_model_module": "@jupyter-widgets/base",
            "_model_module_version": "1.2.0",
            "_model_name": "LayoutModel",
            "_view_count": null,
            "_view_module": "@jupyter-widgets/base",
            "_view_module_version": "1.2.0",
            "_view_name": "LayoutView",
            "align_content": null,
            "align_items": null,
            "align_self": null,
            "border": null,
            "bottom": null,
            "display": null,
            "flex": null,
            "flex_flow": null,
            "grid_area": null,
            "grid_auto_columns": null,
            "grid_auto_flow": null,
            "grid_auto_rows": null,
            "grid_column": null,
            "grid_gap": null,
            "grid_row": null,
            "grid_template_areas": null,
            "grid_template_columns": null,
            "grid_template_rows": null,
            "height": null,
            "justify_content": null,
            "justify_items": null,
            "left": null,
            "margin": null,
            "max_height": null,
            "max_width": null,
            "min_height": null,
            "min_width": null,
            "object_fit": null,
            "object_position": null,
            "order": null,
            "overflow": null,
            "overflow_x": null,
            "overflow_y": null,
            "padding": null,
            "right": null,
            "top": null,
            "visibility": null,
            "width": null
          }
        },
        "8bc101b30f7c44f5879e5b167609fc22": {
          "model_module": "@jupyter-widgets/controls",
          "model_name": "ProgressStyleModel",
          "model_module_version": "1.5.0",
          "state": {
            "_model_module": "@jupyter-widgets/controls",
            "_model_module_version": "1.5.0",
            "_model_name": "ProgressStyleModel",
            "_view_count": null,
            "_view_module": "@jupyter-widgets/base",
            "_view_module_version": "1.2.0",
            "_view_name": "StyleView",
            "bar_color": null,
            "description_width": ""
          }
        },
        "b83751adee7c4e28a4011b75cf4c976b": {
          "model_module": "@jupyter-widgets/base",
          "model_name": "LayoutModel",
          "model_module_version": "1.2.0",
          "state": {
            "_model_module": "@jupyter-widgets/base",
            "_model_module_version": "1.2.0",
            "_model_name": "LayoutModel",
            "_view_count": null,
            "_view_module": "@jupyter-widgets/base",
            "_view_module_version": "1.2.0",
            "_view_name": "LayoutView",
            "align_content": null,
            "align_items": null,
            "align_self": null,
            "border": null,
            "bottom": null,
            "display": null,
            "flex": null,
            "flex_flow": null,
            "grid_area": null,
            "grid_auto_columns": null,
            "grid_auto_flow": null,
            "grid_auto_rows": null,
            "grid_column": null,
            "grid_gap": null,
            "grid_row": null,
            "grid_template_areas": null,
            "grid_template_columns": null,
            "grid_template_rows": null,
            "height": null,
            "justify_content": null,
            "justify_items": null,
            "left": null,
            "margin": null,
            "max_height": null,
            "max_width": null,
            "min_height": null,
            "min_width": null,
            "object_fit": null,
            "object_position": null,
            "order": null,
            "overflow": null,
            "overflow_x": null,
            "overflow_y": null,
            "padding": null,
            "right": null,
            "top": null,
            "visibility": null,
            "width": null
          }
        },
        "b44de924a929431cb21539d44291c86b": {
          "model_module": "@jupyter-widgets/controls",
          "model_name": "DescriptionStyleModel",
          "model_module_version": "1.5.0",
          "state": {
            "_model_module": "@jupyter-widgets/controls",
            "_model_module_version": "1.5.0",
            "_model_name": "DescriptionStyleModel",
            "_view_count": null,
            "_view_module": "@jupyter-widgets/base",
            "_view_module_version": "1.2.0",
            "_view_name": "StyleView",
            "description_width": ""
          }
        },
        "65f50c46dbe44d46b52579e64d277ed7": {
          "model_module": "@jupyter-widgets/controls",
          "model_name": "HBoxModel",
          "model_module_version": "1.5.0",
          "state": {
            "_dom_classes": [],
            "_model_module": "@jupyter-widgets/controls",
            "_model_module_version": "1.5.0",
            "_model_name": "HBoxModel",
            "_view_count": null,
            "_view_module": "@jupyter-widgets/controls",
            "_view_module_version": "1.5.0",
            "_view_name": "HBoxView",
            "box_style": "",
            "children": [
              "IPY_MODEL_77041c1f3a7d44caac71a3cf995a033f",
              "IPY_MODEL_262c5497677846748558fbab250fb106",
              "IPY_MODEL_e5df3250aecd4dda803c1cd233955d3f"
            ],
            "layout": "IPY_MODEL_c4b38689d930419fa7a54116aa1a1c7d"
          }
        },
        "77041c1f3a7d44caac71a3cf995a033f": {
          "model_module": "@jupyter-widgets/controls",
          "model_name": "HTMLModel",
          "model_module_version": "1.5.0",
          "state": {
            "_dom_classes": [],
            "_model_module": "@jupyter-widgets/controls",
            "_model_module_version": "1.5.0",
            "_model_name": "HTMLModel",
            "_view_count": null,
            "_view_module": "@jupyter-widgets/controls",
            "_view_module_version": "1.5.0",
            "_view_name": "HTMLView",
            "description": "",
            "description_tooltip": null,
            "layout": "IPY_MODEL_d56590e3f0c544c9be46b9dcbdb325f6",
            "placeholder": "​",
            "style": "IPY_MODEL_677bd09ee5174366899c9b5cfbc5d60c",
            "value": "tokenizer.json: 100%"
          }
        },
        "262c5497677846748558fbab250fb106": {
          "model_module": "@jupyter-widgets/controls",
          "model_name": "FloatProgressModel",
          "model_module_version": "1.5.0",
          "state": {
            "_dom_classes": [],
            "_model_module": "@jupyter-widgets/controls",
            "_model_module_version": "1.5.0",
            "_model_name": "FloatProgressModel",
            "_view_count": null,
            "_view_module": "@jupyter-widgets/controls",
            "_view_module_version": "1.5.0",
            "_view_name": "ProgressView",
            "bar_style": "success",
            "description": "",
            "description_tooltip": null,
            "layout": "IPY_MODEL_34f3d0fed07143a6a2a6402bef8716d4",
            "max": 1961828,
            "min": 0,
            "orientation": "horizontal",
            "style": "IPY_MODEL_cd803d35eef243f1b73f6e17ce041deb",
            "value": 1961828
          }
        },
        "e5df3250aecd4dda803c1cd233955d3f": {
          "model_module": "@jupyter-widgets/controls",
          "model_name": "HTMLModel",
          "model_module_version": "1.5.0",
          "state": {
            "_dom_classes": [],
            "_model_module": "@jupyter-widgets/controls",
            "_model_module_version": "1.5.0",
            "_model_name": "HTMLModel",
            "_view_count": null,
            "_view_module": "@jupyter-widgets/controls",
            "_view_module_version": "1.5.0",
            "_view_name": "HTMLView",
            "description": "",
            "description_tooltip": null,
            "layout": "IPY_MODEL_109869776c884975858d0cb38144d64b",
            "placeholder": "​",
            "style": "IPY_MODEL_56ec6725ce2e43acbf0fbdfa34c49b7f",
            "value": " 1.96M/1.96M [00:00&lt;00:00, 9.77MB/s]"
          }
        },
        "c4b38689d930419fa7a54116aa1a1c7d": {
          "model_module": "@jupyter-widgets/base",
          "model_name": "LayoutModel",
          "model_module_version": "1.2.0",
          "state": {
            "_model_module": "@jupyter-widgets/base",
            "_model_module_version": "1.2.0",
            "_model_name": "LayoutModel",
            "_view_count": null,
            "_view_module": "@jupyter-widgets/base",
            "_view_module_version": "1.2.0",
            "_view_name": "LayoutView",
            "align_content": null,
            "align_items": null,
            "align_self": null,
            "border": null,
            "bottom": null,
            "display": null,
            "flex": null,
            "flex_flow": null,
            "grid_area": null,
            "grid_auto_columns": null,
            "grid_auto_flow": null,
            "grid_auto_rows": null,
            "grid_column": null,
            "grid_gap": null,
            "grid_row": null,
            "grid_template_areas": null,
            "grid_template_columns": null,
            "grid_template_rows": null,
            "height": null,
            "justify_content": null,
            "justify_items": null,
            "left": null,
            "margin": null,
            "max_height": null,
            "max_width": null,
            "min_height": null,
            "min_width": null,
            "object_fit": null,
            "object_position": null,
            "order": null,
            "overflow": null,
            "overflow_x": null,
            "overflow_y": null,
            "padding": null,
            "right": null,
            "top": null,
            "visibility": null,
            "width": null
          }
        },
        "d56590e3f0c544c9be46b9dcbdb325f6": {
          "model_module": "@jupyter-widgets/base",
          "model_name": "LayoutModel",
          "model_module_version": "1.2.0",
          "state": {
            "_model_module": "@jupyter-widgets/base",
            "_model_module_version": "1.2.0",
            "_model_name": "LayoutModel",
            "_view_count": null,
            "_view_module": "@jupyter-widgets/base",
            "_view_module_version": "1.2.0",
            "_view_name": "LayoutView",
            "align_content": null,
            "align_items": null,
            "align_self": null,
            "border": null,
            "bottom": null,
            "display": null,
            "flex": null,
            "flex_flow": null,
            "grid_area": null,
            "grid_auto_columns": null,
            "grid_auto_flow": null,
            "grid_auto_rows": null,
            "grid_column": null,
            "grid_gap": null,
            "grid_row": null,
            "grid_template_areas": null,
            "grid_template_columns": null,
            "grid_template_rows": null,
            "height": null,
            "justify_content": null,
            "justify_items": null,
            "left": null,
            "margin": null,
            "max_height": null,
            "max_width": null,
            "min_height": null,
            "min_width": null,
            "object_fit": null,
            "object_position": null,
            "order": null,
            "overflow": null,
            "overflow_x": null,
            "overflow_y": null,
            "padding": null,
            "right": null,
            "top": null,
            "visibility": null,
            "width": null
          }
        },
        "677bd09ee5174366899c9b5cfbc5d60c": {
          "model_module": "@jupyter-widgets/controls",
          "model_name": "DescriptionStyleModel",
          "model_module_version": "1.5.0",
          "state": {
            "_model_module": "@jupyter-widgets/controls",
            "_model_module_version": "1.5.0",
            "_model_name": "DescriptionStyleModel",
            "_view_count": null,
            "_view_module": "@jupyter-widgets/base",
            "_view_module_version": "1.2.0",
            "_view_name": "StyleView",
            "description_width": ""
          }
        },
        "34f3d0fed07143a6a2a6402bef8716d4": {
          "model_module": "@jupyter-widgets/base",
          "model_name": "LayoutModel",
          "model_module_version": "1.2.0",
          "state": {
            "_model_module": "@jupyter-widgets/base",
            "_model_module_version": "1.2.0",
            "_model_name": "LayoutModel",
            "_view_count": null,
            "_view_module": "@jupyter-widgets/base",
            "_view_module_version": "1.2.0",
            "_view_name": "LayoutView",
            "align_content": null,
            "align_items": null,
            "align_self": null,
            "border": null,
            "bottom": null,
            "display": null,
            "flex": null,
            "flex_flow": null,
            "grid_area": null,
            "grid_auto_columns": null,
            "grid_auto_flow": null,
            "grid_auto_rows": null,
            "grid_column": null,
            "grid_gap": null,
            "grid_row": null,
            "grid_template_areas": null,
            "grid_template_columns": null,
            "grid_template_rows": null,
            "height": null,
            "justify_content": null,
            "justify_items": null,
            "left": null,
            "margin": null,
            "max_height": null,
            "max_width": null,
            "min_height": null,
            "min_width": null,
            "object_fit": null,
            "object_position": null,
            "order": null,
            "overflow": null,
            "overflow_x": null,
            "overflow_y": null,
            "padding": null,
            "right": null,
            "top": null,
            "visibility": null,
            "width": null
          }
        },
        "cd803d35eef243f1b73f6e17ce041deb": {
          "model_module": "@jupyter-widgets/controls",
          "model_name": "ProgressStyleModel",
          "model_module_version": "1.5.0",
          "state": {
            "_model_module": "@jupyter-widgets/controls",
            "_model_module_version": "1.5.0",
            "_model_name": "ProgressStyleModel",
            "_view_count": null,
            "_view_module": "@jupyter-widgets/base",
            "_view_module_version": "1.2.0",
            "_view_name": "StyleView",
            "bar_color": null,
            "description_width": ""
          }
        },
        "109869776c884975858d0cb38144d64b": {
          "model_module": "@jupyter-widgets/base",
          "model_name": "LayoutModel",
          "model_module_version": "1.2.0",
          "state": {
            "_model_module": "@jupyter-widgets/base",
            "_model_module_version": "1.2.0",
            "_model_name": "LayoutModel",
            "_view_count": null,
            "_view_module": "@jupyter-widgets/base",
            "_view_module_version": "1.2.0",
            "_view_name": "LayoutView",
            "align_content": null,
            "align_items": null,
            "align_self": null,
            "border": null,
            "bottom": null,
            "display": null,
            "flex": null,
            "flex_flow": null,
            "grid_area": null,
            "grid_auto_columns": null,
            "grid_auto_flow": null,
            "grid_auto_rows": null,
            "grid_column": null,
            "grid_gap": null,
            "grid_row": null,
            "grid_template_areas": null,
            "grid_template_columns": null,
            "grid_template_rows": null,
            "height": null,
            "justify_content": null,
            "justify_items": null,
            "left": null,
            "margin": null,
            "max_height": null,
            "max_width": null,
            "min_height": null,
            "min_width": null,
            "object_fit": null,
            "object_position": null,
            "order": null,
            "overflow": null,
            "overflow_x": null,
            "overflow_y": null,
            "padding": null,
            "right": null,
            "top": null,
            "visibility": null,
            "width": null
          }
        },
        "56ec6725ce2e43acbf0fbdfa34c49b7f": {
          "model_module": "@jupyter-widgets/controls",
          "model_name": "DescriptionStyleModel",
          "model_module_version": "1.5.0",
          "state": {
            "_model_module": "@jupyter-widgets/controls",
            "_model_module_version": "1.5.0",
            "_model_name": "DescriptionStyleModel",
            "_view_count": null,
            "_view_module": "@jupyter-widgets/base",
            "_view_module_version": "1.2.0",
            "_view_name": "StyleView",
            "description_width": ""
          }
        },
        "bca5c475486b4509b42c136fcd22349c": {
          "model_module": "@jupyter-widgets/controls",
          "model_name": "HBoxModel",
          "model_module_version": "1.5.0",
          "state": {
            "_dom_classes": [],
            "_model_module": "@jupyter-widgets/controls",
            "_model_module_version": "1.5.0",
            "_model_name": "HBoxModel",
            "_view_count": null,
            "_view_module": "@jupyter-widgets/controls",
            "_view_module_version": "1.5.0",
            "_view_name": "HBoxView",
            "box_style": "",
            "children": [
              "IPY_MODEL_6436c38ee3e24252920fca7091d4e1e2",
              "IPY_MODEL_aafa2be3e04847bcb5331fdb2d35b4ed",
              "IPY_MODEL_daac6aa1095c44dcb59e272c6eb30632"
            ],
            "layout": "IPY_MODEL_3ca28d61859547e8a60aa82cec1e7078"
          }
        },
        "6436c38ee3e24252920fca7091d4e1e2": {
          "model_module": "@jupyter-widgets/controls",
          "model_name": "HTMLModel",
          "model_module_version": "1.5.0",
          "state": {
            "_dom_classes": [],
            "_model_module": "@jupyter-widgets/controls",
            "_model_module_version": "1.5.0",
            "_model_name": "HTMLModel",
            "_view_count": null,
            "_view_module": "@jupyter-widgets/controls",
            "_view_module_version": "1.5.0",
            "_view_name": "HTMLView",
            "description": "",
            "description_tooltip": null,
            "layout": "IPY_MODEL_4b60d1dd204146dc9434533345746985",
            "placeholder": "​",
            "style": "IPY_MODEL_b65ae7c3afd14878a2ade9a931f2ab1f",
            "value": "model.safetensors: 100%"
          }
        },
        "aafa2be3e04847bcb5331fdb2d35b4ed": {
          "model_module": "@jupyter-widgets/controls",
          "model_name": "FloatProgressModel",
          "model_module_version": "1.5.0",
          "state": {
            "_dom_classes": [],
            "_model_module": "@jupyter-widgets/controls",
            "_model_module_version": "1.5.0",
            "_model_name": "FloatProgressModel",
            "_view_count": null,
            "_view_module": "@jupyter-widgets/controls",
            "_view_module_version": "1.5.0",
            "_view_name": "ProgressView",
            "bar_style": "success",
            "description": "",
            "description_tooltip": null,
            "layout": "IPY_MODEL_e1e3a17d4a764b4c8b3041572bad34ad",
            "max": 714290682,
            "min": 0,
            "orientation": "horizontal",
            "style": "IPY_MODEL_899fab37e501484f80f72c4981f084c7",
            "value": 714290682
          }
        },
        "daac6aa1095c44dcb59e272c6eb30632": {
          "model_module": "@jupyter-widgets/controls",
          "model_name": "HTMLModel",
          "model_module_version": "1.5.0",
          "state": {
            "_dom_classes": [],
            "_model_module": "@jupyter-widgets/controls",
            "_model_module_version": "1.5.0",
            "_model_name": "HTMLModel",
            "_view_count": null,
            "_view_module": "@jupyter-widgets/controls",
            "_view_module_version": "1.5.0",
            "_view_name": "HTMLView",
            "description": "",
            "description_tooltip": null,
            "layout": "IPY_MODEL_c330942eae2e44d0bfa6d052c5251f7e",
            "placeholder": "​",
            "style": "IPY_MODEL_334353d006b7419fa2b56d7f5e9162b5",
            "value": " 714M/714M [00:04&lt;00:00, 180MB/s]"
          }
        },
        "3ca28d61859547e8a60aa82cec1e7078": {
          "model_module": "@jupyter-widgets/base",
          "model_name": "LayoutModel",
          "model_module_version": "1.2.0",
          "state": {
            "_model_module": "@jupyter-widgets/base",
            "_model_module_version": "1.2.0",
            "_model_name": "LayoutModel",
            "_view_count": null,
            "_view_module": "@jupyter-widgets/base",
            "_view_module_version": "1.2.0",
            "_view_name": "LayoutView",
            "align_content": null,
            "align_items": null,
            "align_self": null,
            "border": null,
            "bottom": null,
            "display": null,
            "flex": null,
            "flex_flow": null,
            "grid_area": null,
            "grid_auto_columns": null,
            "grid_auto_flow": null,
            "grid_auto_rows": null,
            "grid_column": null,
            "grid_gap": null,
            "grid_row": null,
            "grid_template_areas": null,
            "grid_template_columns": null,
            "grid_template_rows": null,
            "height": null,
            "justify_content": null,
            "justify_items": null,
            "left": null,
            "margin": null,
            "max_height": null,
            "max_width": null,
            "min_height": null,
            "min_width": null,
            "object_fit": null,
            "object_position": null,
            "order": null,
            "overflow": null,
            "overflow_x": null,
            "overflow_y": null,
            "padding": null,
            "right": null,
            "top": null,
            "visibility": null,
            "width": null
          }
        },
        "4b60d1dd204146dc9434533345746985": {
          "model_module": "@jupyter-widgets/base",
          "model_name": "LayoutModel",
          "model_module_version": "1.2.0",
          "state": {
            "_model_module": "@jupyter-widgets/base",
            "_model_module_version": "1.2.0",
            "_model_name": "LayoutModel",
            "_view_count": null,
            "_view_module": "@jupyter-widgets/base",
            "_view_module_version": "1.2.0",
            "_view_name": "LayoutView",
            "align_content": null,
            "align_items": null,
            "align_self": null,
            "border": null,
            "bottom": null,
            "display": null,
            "flex": null,
            "flex_flow": null,
            "grid_area": null,
            "grid_auto_columns": null,
            "grid_auto_flow": null,
            "grid_auto_rows": null,
            "grid_column": null,
            "grid_gap": null,
            "grid_row": null,
            "grid_template_areas": null,
            "grid_template_columns": null,
            "grid_template_rows": null,
            "height": null,
            "justify_content": null,
            "justify_items": null,
            "left": null,
            "margin": null,
            "max_height": null,
            "max_width": null,
            "min_height": null,
            "min_width": null,
            "object_fit": null,
            "object_position": null,
            "order": null,
            "overflow": null,
            "overflow_x": null,
            "overflow_y": null,
            "padding": null,
            "right": null,
            "top": null,
            "visibility": null,
            "width": null
          }
        },
        "b65ae7c3afd14878a2ade9a931f2ab1f": {
          "model_module": "@jupyter-widgets/controls",
          "model_name": "DescriptionStyleModel",
          "model_module_version": "1.5.0",
          "state": {
            "_model_module": "@jupyter-widgets/controls",
            "_model_module_version": "1.5.0",
            "_model_name": "DescriptionStyleModel",
            "_view_count": null,
            "_view_module": "@jupyter-widgets/base",
            "_view_module_version": "1.2.0",
            "_view_name": "StyleView",
            "description_width": ""
          }
        },
        "e1e3a17d4a764b4c8b3041572bad34ad": {
          "model_module": "@jupyter-widgets/base",
          "model_name": "LayoutModel",
          "model_module_version": "1.2.0",
          "state": {
            "_model_module": "@jupyter-widgets/base",
            "_model_module_version": "1.2.0",
            "_model_name": "LayoutModel",
            "_view_count": null,
            "_view_module": "@jupyter-widgets/base",
            "_view_module_version": "1.2.0",
            "_view_name": "LayoutView",
            "align_content": null,
            "align_items": null,
            "align_self": null,
            "border": null,
            "bottom": null,
            "display": null,
            "flex": null,
            "flex_flow": null,
            "grid_area": null,
            "grid_auto_columns": null,
            "grid_auto_flow": null,
            "grid_auto_rows": null,
            "grid_column": null,
            "grid_gap": null,
            "grid_row": null,
            "grid_template_areas": null,
            "grid_template_columns": null,
            "grid_template_rows": null,
            "height": null,
            "justify_content": null,
            "justify_items": null,
            "left": null,
            "margin": null,
            "max_height": null,
            "max_width": null,
            "min_height": null,
            "min_width": null,
            "object_fit": null,
            "object_position": null,
            "order": null,
            "overflow": null,
            "overflow_x": null,
            "overflow_y": null,
            "padding": null,
            "right": null,
            "top": null,
            "visibility": null,
            "width": null
          }
        },
        "899fab37e501484f80f72c4981f084c7": {
          "model_module": "@jupyter-widgets/controls",
          "model_name": "ProgressStyleModel",
          "model_module_version": "1.5.0",
          "state": {
            "_model_module": "@jupyter-widgets/controls",
            "_model_module_version": "1.5.0",
            "_model_name": "ProgressStyleModel",
            "_view_count": null,
            "_view_module": "@jupyter-widgets/base",
            "_view_module_version": "1.2.0",
            "_view_name": "StyleView",
            "bar_color": null,
            "description_width": ""
          }
        },
        "c330942eae2e44d0bfa6d052c5251f7e": {
          "model_module": "@jupyter-widgets/base",
          "model_name": "LayoutModel",
          "model_module_version": "1.2.0",
          "state": {
            "_model_module": "@jupyter-widgets/base",
            "_model_module_version": "1.2.0",
            "_model_name": "LayoutModel",
            "_view_count": null,
            "_view_module": "@jupyter-widgets/base",
            "_view_module_version": "1.2.0",
            "_view_name": "LayoutView",
            "align_content": null,
            "align_items": null,
            "align_self": null,
            "border": null,
            "bottom": null,
            "display": null,
            "flex": null,
            "flex_flow": null,
            "grid_area": null,
            "grid_auto_columns": null,
            "grid_auto_flow": null,
            "grid_auto_rows": null,
            "grid_column": null,
            "grid_gap": null,
            "grid_row": null,
            "grid_template_areas": null,
            "grid_template_columns": null,
            "grid_template_rows": null,
            "height": null,
            "justify_content": null,
            "justify_items": null,
            "left": null,
            "margin": null,
            "max_height": null,
            "max_width": null,
            "min_height": null,
            "min_width": null,
            "object_fit": null,
            "object_position": null,
            "order": null,
            "overflow": null,
            "overflow_x": null,
            "overflow_y": null,
            "padding": null,
            "right": null,
            "top": null,
            "visibility": null,
            "width": null
          }
        },
        "334353d006b7419fa2b56d7f5e9162b5": {
          "model_module": "@jupyter-widgets/controls",
          "model_name": "DescriptionStyleModel",
          "model_module_version": "1.5.0",
          "state": {
            "_model_module": "@jupyter-widgets/controls",
            "_model_module_version": "1.5.0",
            "_model_name": "DescriptionStyleModel",
            "_view_count": null,
            "_view_module": "@jupyter-widgets/base",
            "_view_module_version": "1.2.0",
            "_view_name": "StyleView",
            "description_width": ""
          }
        }
      }
    }
  },
  "cells": [
    {
      "cell_type": "markdown",
      "metadata": {
        "id": "view-in-github",
        "colab_type": "text"
      },
      "source": [
        "<a href=\"https://colab.research.google.com/github/Ksen1aT/your-job-offer-1/blob/parser/Match_user_and_vacancy.ipynb\" target=\"_parent\"><img src=\"https://colab.research.google.com/assets/colab-badge.svg\" alt=\"Open In Colab\"/></a>"
      ]
    },
    {
      "cell_type": "code",
      "execution_count": 2,
      "metadata": {
        "colab": {
          "base_uri": "https://localhost:8080/"
        },
        "id": "cMb2ud0rkVdf",
        "outputId": "77ad6fb3-8247-46de-e876-1bc71eaf8ea1"
      },
      "outputs": [
        {
          "output_type": "stream",
          "name": "stdout",
          "text": [
            "Collecting pymorphy2\n",
            "  Downloading pymorphy2-0.9.1-py3-none-any.whl.metadata (3.6 kB)\n",
            "Collecting dawg-python>=0.7.1 (from pymorphy2)\n",
            "  Downloading DAWG_Python-0.7.2-py2.py3-none-any.whl.metadata (7.0 kB)\n",
            "Collecting pymorphy2-dicts-ru<3.0,>=2.4 (from pymorphy2)\n",
            "  Downloading pymorphy2_dicts_ru-2.4.417127.4579844-py2.py3-none-any.whl.metadata (2.1 kB)\n",
            "Collecting docopt>=0.6 (from pymorphy2)\n",
            "  Downloading docopt-0.6.2.tar.gz (25 kB)\n",
            "  Preparing metadata (setup.py) ... \u001b[?25l\u001b[?25hdone\n",
            "Downloading pymorphy2-0.9.1-py3-none-any.whl (55 kB)\n",
            "\u001b[2K   \u001b[90m━━━━━━━━━━━━━━━━━━━━━━━━━━━━━━━━━━━━━━━━\u001b[0m \u001b[32m55.5/55.5 kB\u001b[0m \u001b[31m4.0 MB/s\u001b[0m eta \u001b[36m0:00:00\u001b[0m\n",
            "\u001b[?25hDownloading DAWG_Python-0.7.2-py2.py3-none-any.whl (11 kB)\n",
            "Downloading pymorphy2_dicts_ru-2.4.417127.4579844-py2.py3-none-any.whl (8.2 MB)\n",
            "\u001b[2K   \u001b[90m━━━━━━━━━━━━━━━━━━━━━━━━━━━━━━━━━━━━━━━━\u001b[0m \u001b[32m8.2/8.2 MB\u001b[0m \u001b[31m59.5 MB/s\u001b[0m eta \u001b[36m0:00:00\u001b[0m\n",
            "\u001b[?25hBuilding wheels for collected packages: docopt\n",
            "  Building wheel for docopt (setup.py) ... \u001b[?25l\u001b[?25hdone\n",
            "  Created wheel for docopt: filename=docopt-0.6.2-py2.py3-none-any.whl size=13706 sha256=cbfa0dadbdf07007d9afabea3c85f1d3b113a80d53f508acd29cb2b38e6afea7\n",
            "  Stored in directory: /root/.cache/pip/wheels/fc/ab/d4/5da2067ac95b36618c629a5f93f809425700506f72c9732fac\n",
            "Successfully built docopt\n",
            "Installing collected packages: pymorphy2-dicts-ru, docopt, dawg-python, pymorphy2\n",
            "Successfully installed dawg-python-0.7.2 docopt-0.6.2 pymorphy2-0.9.1 pymorphy2-dicts-ru-2.4.417127.4579844\n"
          ]
        }
      ],
      "source": [
        "!pip install pymorphy2"
      ]
    },
    {
      "cell_type": "code",
      "source": [
        "!pip install rdflib"
      ],
      "metadata": {
        "colab": {
          "base_uri": "https://localhost:8080/"
        },
        "id": "iD6lzGUAt_c7",
        "outputId": "c9021543-a8a8-468f-bfe3-622aea1e823e"
      },
      "execution_count": 3,
      "outputs": [
        {
          "output_type": "stream",
          "name": "stdout",
          "text": [
            "Collecting rdflib\n",
            "  Downloading rdflib-7.1.1-py3-none-any.whl.metadata (11 kB)\n",
            "Collecting isodate<1.0.0,>=0.7.2 (from rdflib)\n",
            "  Downloading isodate-0.7.2-py3-none-any.whl.metadata (11 kB)\n",
            "Requirement already satisfied: pyparsing<4,>=2.1.0 in /usr/local/lib/python3.10/dist-packages (from rdflib) (3.2.0)\n",
            "Downloading rdflib-7.1.1-py3-none-any.whl (562 kB)\n",
            "\u001b[?25l   \u001b[90m━━━━━━━━━━━━━━━━━━━━━━━━━━━━━━━━━━━━━━━━\u001b[0m \u001b[32m0.0/562.4 kB\u001b[0m \u001b[31m?\u001b[0m eta \u001b[36m-:--:--\u001b[0m\r\u001b[2K   \u001b[91m━━━━━━━━━━━━━━━━━━━━━━━━━━━━━━━━━━━━━━━\u001b[0m\u001b[90m╺\u001b[0m \u001b[32m553.0/562.4 kB\u001b[0m \u001b[31m20.5 MB/s\u001b[0m eta \u001b[36m0:00:01\u001b[0m\r\u001b[2K   \u001b[90m━━━━━━━━━━━━━━━━━━━━━━━━━━━━━━━━━━━━━━━━\u001b[0m \u001b[32m562.4/562.4 kB\u001b[0m \u001b[31m14.0 MB/s\u001b[0m eta \u001b[36m0:00:00\u001b[0m\n",
            "\u001b[?25hDownloading isodate-0.7.2-py3-none-any.whl (22 kB)\n",
            "Installing collected packages: isodate, rdflib\n",
            "Successfully installed isodate-0.7.2 rdflib-7.1.1\n"
          ]
        }
      ]
    },
    {
      "cell_type": "code",
      "source": [
        "!pip install mpld3"
      ],
      "metadata": {
        "colab": {
          "base_uri": "https://localhost:8080/"
        },
        "id": "EiCvivrwuSjd",
        "outputId": "332490c5-bf6c-4c27-9c5d-f524308844e1"
      },
      "execution_count": 4,
      "outputs": [
        {
          "output_type": "stream",
          "name": "stdout",
          "text": [
            "Collecting mpld3\n",
            "  Downloading mpld3-0.5.10-py3-none-any.whl.metadata (5.1 kB)\n",
            "Requirement already satisfied: jinja2 in /usr/local/lib/python3.10/dist-packages (from mpld3) (3.1.4)\n",
            "Requirement already satisfied: matplotlib in /usr/local/lib/python3.10/dist-packages (from mpld3) (3.8.0)\n",
            "Requirement already satisfied: MarkupSafe>=2.0 in /usr/local/lib/python3.10/dist-packages (from jinja2->mpld3) (3.0.2)\n",
            "Requirement already satisfied: contourpy>=1.0.1 in /usr/local/lib/python3.10/dist-packages (from matplotlib->mpld3) (1.3.1)\n",
            "Requirement already satisfied: cycler>=0.10 in /usr/local/lib/python3.10/dist-packages (from matplotlib->mpld3) (0.12.1)\n",
            "Requirement already satisfied: fonttools>=4.22.0 in /usr/local/lib/python3.10/dist-packages (from matplotlib->mpld3) (4.55.1)\n",
            "Requirement already satisfied: kiwisolver>=1.0.1 in /usr/local/lib/python3.10/dist-packages (from matplotlib->mpld3) (1.4.7)\n",
            "Requirement already satisfied: numpy<2,>=1.21 in /usr/local/lib/python3.10/dist-packages (from matplotlib->mpld3) (1.26.4)\n",
            "Requirement already satisfied: packaging>=20.0 in /usr/local/lib/python3.10/dist-packages (from matplotlib->mpld3) (24.2)\n",
            "Requirement already satisfied: pillow>=6.2.0 in /usr/local/lib/python3.10/dist-packages (from matplotlib->mpld3) (11.0.0)\n",
            "Requirement already satisfied: pyparsing>=2.3.1 in /usr/local/lib/python3.10/dist-packages (from matplotlib->mpld3) (3.2.0)\n",
            "Requirement already satisfied: python-dateutil>=2.7 in /usr/local/lib/python3.10/dist-packages (from matplotlib->mpld3) (2.8.2)\n",
            "Requirement already satisfied: six>=1.5 in /usr/local/lib/python3.10/dist-packages (from python-dateutil>=2.7->matplotlib->mpld3) (1.16.0)\n",
            "Downloading mpld3-0.5.10-py3-none-any.whl (202 kB)\n",
            "\u001b[2K   \u001b[90m━━━━━━━━━━━━━━━━━━━━━━━━━━━━━━━━━━━━━━━━\u001b[0m \u001b[32m202.6/202.6 kB\u001b[0m \u001b[31m3.9 MB/s\u001b[0m eta \u001b[36m0:00:00\u001b[0m\n",
            "\u001b[?25hInstalling collected packages: mpld3\n",
            "Successfully installed mpld3-0.5.10\n"
          ]
        }
      ]
    },
    {
      "cell_type": "code",
      "source": [
        "!pip install sqlalchemy"
      ],
      "metadata": {
        "colab": {
          "base_uri": "https://localhost:8080/"
        },
        "id": "qPE1BGoGAe5r",
        "outputId": "cbf30e01-d88f-4b70-ee98-2d27178844b5"
      },
      "execution_count": 5,
      "outputs": [
        {
          "output_type": "stream",
          "name": "stdout",
          "text": [
            "Requirement already satisfied: sqlalchemy in /usr/local/lib/python3.10/dist-packages (2.0.36)\n",
            "Requirement already satisfied: typing-extensions>=4.6.0 in /usr/local/lib/python3.10/dist-packages (from sqlalchemy) (4.12.2)\n",
            "Requirement already satisfied: greenlet!=0.4.17 in /usr/local/lib/python3.10/dist-packages (from sqlalchemy) (3.1.1)\n"
          ]
        }
      ]
    },
    {
      "cell_type": "code",
      "source": [
        "import sqlalchemy\n",
        "import requests\n",
        "from datetime import datetime, timedelta\n",
        "import pandas as pd\n",
        "import time\n",
        "import random\n",
        "import json\n",
        "import time\n",
        "import os\n",
        "import json\n",
        "import numpy as np\n",
        "import re\n",
        "from requests.exceptions import HTTPError, Timeout, ConnectionError\n",
        "import rdflib\n",
        "import nltk\n",
        "from nltk.tokenize import sent_tokenize\n",
        "from string import punctuation\n",
        "from nltk import word_tokenize\n",
        "from nltk.corpus import stopwords\n",
        "from nltk.tokenize import word_tokenize\n",
        "from nltk.tokenize import sent_tokenize\n",
        "from nltk import download as nltk_download\n",
        "from nltk.stem import WordNetLemmatizer\n",
        "from nltk.stem.snowball import SnowballStemmer\n",
        "import pymorphy2\n",
        "from pymorphy2 import MorphAnalyzer\n",
        "\n",
        "from sklearn import feature_extraction\n",
        "import mpld3\n",
        "from collections import Counter\n",
        "import torch\n",
        "from dataclasses import dataclass"
      ],
      "metadata": {
        "id": "GqyQA8XukZgG"
      },
      "execution_count": 6,
      "outputs": []
    },
    {
      "cell_type": "code",
      "source": [
        "nltk.download('punkt')"
      ],
      "metadata": {
        "colab": {
          "base_uri": "https://localhost:8080/"
        },
        "id": "cVYUddV6uaIn",
        "outputId": "34103be5-c3df-4fb7-dc12-8bac78c891c7"
      },
      "execution_count": 7,
      "outputs": [
        {
          "output_type": "stream",
          "name": "stderr",
          "text": [
            "[nltk_data] Downloading package punkt to /root/nltk_data...\n",
            "[nltk_data]   Unzipping tokenizers/punkt.zip.\n"
          ]
        },
        {
          "output_type": "execute_result",
          "data": {
            "text/plain": [
              "True"
            ]
          },
          "metadata": {},
          "execution_count": 7
        }
      ]
    },
    {
      "cell_type": "code",
      "source": [
        "nltk.download('stopwords')"
      ],
      "metadata": {
        "colab": {
          "base_uri": "https://localhost:8080/"
        },
        "id": "5Dy-OZgnui66",
        "outputId": "df6550c6-f60a-4073-a78f-7d100576c4e9"
      },
      "execution_count": 8,
      "outputs": [
        {
          "output_type": "stream",
          "name": "stderr",
          "text": [
            "[nltk_data] Downloading package stopwords to /root/nltk_data...\n",
            "[nltk_data]   Unzipping corpora/stopwords.zip.\n"
          ]
        },
        {
          "output_type": "execute_result",
          "data": {
            "text/plain": [
              "True"
            ]
          },
          "metadata": {},
          "execution_count": 8
        }
      ]
    },
    {
      "cell_type": "code",
      "source": [
        "nltk.download('wordnet')"
      ],
      "metadata": {
        "colab": {
          "base_uri": "https://localhost:8080/"
        },
        "id": "aWEXFfjzuqzY",
        "outputId": "cc76b5e9-ac10-4848-a846-027dc90dbc48"
      },
      "execution_count": 9,
      "outputs": [
        {
          "output_type": "stream",
          "name": "stderr",
          "text": [
            "[nltk_data] Downloading package wordnet to /root/nltk_data...\n"
          ]
        },
        {
          "output_type": "execute_result",
          "data": {
            "text/plain": [
              "True"
            ]
          },
          "metadata": {},
          "execution_count": 9
        }
      ]
    },
    {
      "cell_type": "code",
      "source": [
        "nltk.download('omw-1.4')"
      ],
      "metadata": {
        "colab": {
          "base_uri": "https://localhost:8080/"
        },
        "id": "yer0APEWuust",
        "outputId": "81ae4f0c-8c52-4f3f-b437-9da89f7a5c1f"
      },
      "execution_count": 10,
      "outputs": [
        {
          "output_type": "stream",
          "name": "stderr",
          "text": [
            "[nltk_data] Downloading package omw-1.4 to /root/nltk_data...\n"
          ]
        },
        {
          "output_type": "execute_result",
          "data": {
            "text/plain": [
              "True"
            ]
          },
          "metadata": {},
          "execution_count": 10
        }
      ]
    },
    {
      "cell_type": "code",
      "source": [
        "nltk.download('punkt_tab')"
      ],
      "metadata": {
        "colab": {
          "base_uri": "https://localhost:8080/"
        },
        "id": "TnriFSdsvhgJ",
        "outputId": "62c882d3-2a6e-44a6-c54e-40c325d2a824"
      },
      "execution_count": 11,
      "outputs": [
        {
          "output_type": "stream",
          "name": "stderr",
          "text": [
            "[nltk_data] Downloading package punkt_tab to /root/nltk_data...\n",
            "[nltk_data]   Unzipping tokenizers/punkt_tab.zip.\n"
          ]
        },
        {
          "output_type": "execute_result",
          "data": {
            "text/plain": [
              "True"
            ]
          },
          "metadata": {},
          "execution_count": 11
        }
      ]
    },
    {
      "cell_type": "code",
      "source": [
        "@dataclass\n",
        "class Vacancy:\n",
        "    \"\"\"Класс для хранения информации о вакансиях.\"\"\"\n",
        "    vacancy_id: int\n",
        "    job_title: str\n",
        "    response_letter_required: bool = False\n",
        "    country: str = \"\"\n",
        "    city: str = \"\"\n",
        "    district: str = \"\"\n",
        "    salary: list = None\n",
        "    office_address: str = \"\"\n",
        "    subway_station: str = \"\"\n",
        "    employer_information: str = \"\"\n",
        "    requirements: str = \"\"\n",
        "    work_schedule_working_days: list = None\n",
        "    work_schedule_time_intervals: list = None\n",
        "    experience: str = \"\"\n",
        "    remote_work: bool = False"
      ],
      "metadata": {
        "id": "jiYz9up6u0RI"
      },
      "execution_count": null,
      "outputs": []
    },
    {
      "cell_type": "code",
      "source": [
        "@dataclass\n",
        "class Resume:\n",
        "    resume_id: int\n",
        "    user_id: int\n",
        "    title: str = \"\"\n",
        "    job_title: str = \"\"\n",
        "    country: str = \"\"\n",
        "    city: str = \"\"\n",
        "    district: str = \"\"\n",
        "    salary: int = 0\n",
        "    work_schedule_working_days: list = None\n",
        "    work_schedule_time_intervals: list = None\n",
        "    experience: int = 0\n",
        "    remote_work: bool = False\n",
        "    education: str = \"\"\n",
        "    additional_information: str = \"\""
      ],
      "metadata": {
        "id": "3PpFEiJbvHmD"
      },
      "execution_count": null,
      "outputs": []
    },
    {
      "cell_type": "code",
      "source": [
        "def clean(word):\n",
        "    return re.sub(r\"[^A-ZА-Яa-zа-я+\\s]\", \"\", word)"
      ],
      "metadata": {
        "id": "FBPUYZ9gvLfJ"
      },
      "execution_count": null,
      "outputs": []
    },
    {
      "cell_type": "code",
      "source": [
        "stop_words = stopwords.words('russian') + [\"опыт\",\n",
        "                                           \"навык\",\n",
        "                                           \"знание\",\n",
        "                                           \"понимание\",\n",
        "                                           \"работа\",\n",
        "                                           \"умение\",\n",
        "                                           \"большой\",\n",
        "                                           \"хороший\",\n",
        "                                           \"прикладной\",\n",
        "                                           \"некоторый\",\n",
        "                                           \"небольшой\"]\n"
      ],
      "metadata": {
        "id": "PmaClGosXRiZ"
      },
      "execution_count": null,
      "outputs": []
    },
    {
      "cell_type": "code",
      "source": [
        "def tokenize_text(text):\n",
        "    if text == None:\n",
        "      return\n",
        "    text = text.lower()\n",
        "    text = text.translate(\n",
        "        str.maketrans(punctuation, \" \" * len(punctuation))\n",
        "    )\n",
        "    word_tokens = word_tokenize(text)\n",
        "    word_tokens = [clean(word) for word in word_tokens]\n",
        "    morph = MorphAnalyzer()\n",
        "    lemmatize_words = [morph.normal_forms(word)[0] for word in word_tokens]\n",
        "    filtered_tokens = [word for word in lemmatize_words if word not in stop_words]\n",
        "    return filtered_tokens"
      ],
      "metadata": {
        "id": "_EXDomSRvT92"
      },
      "execution_count": null,
      "outputs": []
    },
    {
      "cell_type": "code",
      "source": [
        "from transformers import AutoTokenizer, AutoModel\n",
        "from sklearn.metrics.pairwise import cosine_similarity\n",
        "\n",
        "tokenizer = AutoTokenizer.from_pretrained(\"cointegrated/rubert-tiny\")\n",
        "model = AutoModel.from_pretrained(\"cointegrated/rubert-tiny\")\n",
        "\n",
        "def get_word_embeddings(words):\n",
        "    inputs = tokenizer(words, padding=True, truncation=True, return_tensors=\"pt\").to(model.device)\n",
        "    with torch.no_grad():\n",
        "        outputs = model(**inputs)\n",
        "    last_hidden_states = outputs.last_hidden_state\n",
        "    embeddings = last_hidden_states[:, 0, :].cpu().numpy()\n",
        "    return embeddings\n",
        "\n",
        "def cosine_similarity(a, b):\n",
        "    dot_product = np.dot(a, b)\n",
        "    norm_a = np.linalg.norm(a)\n",
        "    norm_b = np.linalg.norm(b)\n",
        "    return float(dot_product / (norm_a * norm_b))"
      ],
      "metadata": {
        "colab": {
          "base_uri": "https://localhost:8080/",
          "height": 301,
          "referenced_widgets": [
            "cdbe42dad2c54049be20b579d5861ce1",
            "b1c35f3bbd8d4f26a39dc54412a56aba",
            "c7d0cb080aae4005919dfcaba499a39b",
            "e9115762b47f47eaad94da5dbae3f69f",
            "49c52471b49b44e39831aaac378d3f17",
            "078336310ac147be9b2c2654f5009851",
            "56186302996840f6be3183afdbdd402c",
            "d741e1a645e8487089879b26ee724f36",
            "25645412acbd4de8b6bb277dacce58ce",
            "d44eb94963a4440ca5ee06e9472588b3",
            "2fc0e3d5ae264ddf9ae6c10a6729986d",
            "42fa9045604d4223993bc6ec44d6fba0",
            "f49d3a9e29024828a3d85dc989d561d0",
            "233578f8505448ae8c4cd81f0b82665f",
            "876c969f857d4fed89214330dfaadaff",
            "083b3071f19f48b28cad62ea77a6b2f0",
            "8963a3a99efd44f3917de0958bb17e59",
            "1f53e43d2f014b5b81f2e72d49c9dd69",
            "7e4ece9996af4bbfb74abde0f41f5408",
            "dfc54ead89cb42208bea47df3363a1fd",
            "d12cc2bef9e242cc839923a42f9d144b",
            "e338b1da27e649dbbd88ebec6928d7d5",
            "b4f16b91b695493aa3f51d5d2922e926",
            "4ca115b34d1648778576ac3ceff32ef7",
            "a8cfa519980841da8839dbec766e9554",
            "d0fb9bfbc9e64e92b602af9f63ca88e6",
            "781f71c04ee74db4a7904088f9640838",
            "6e7c9b6ae4754570909c3e20affd85e6",
            "e3d29ee2eb4c4d8a9270c668f9fdd53c",
            "a0890eb012b54bf8b01009ea72775fa0",
            "8bc101b30f7c44f5879e5b167609fc22",
            "b83751adee7c4e28a4011b75cf4c976b",
            "b44de924a929431cb21539d44291c86b",
            "65f50c46dbe44d46b52579e64d277ed7",
            "77041c1f3a7d44caac71a3cf995a033f",
            "262c5497677846748558fbab250fb106",
            "e5df3250aecd4dda803c1cd233955d3f",
            "c4b38689d930419fa7a54116aa1a1c7d",
            "d56590e3f0c544c9be46b9dcbdb325f6",
            "677bd09ee5174366899c9b5cfbc5d60c",
            "34f3d0fed07143a6a2a6402bef8716d4",
            "cd803d35eef243f1b73f6e17ce041deb",
            "109869776c884975858d0cb38144d64b",
            "56ec6725ce2e43acbf0fbdfa34c49b7f",
            "bca5c475486b4509b42c136fcd22349c",
            "6436c38ee3e24252920fca7091d4e1e2",
            "aafa2be3e04847bcb5331fdb2d35b4ed",
            "daac6aa1095c44dcb59e272c6eb30632",
            "3ca28d61859547e8a60aa82cec1e7078",
            "4b60d1dd204146dc9434533345746985",
            "b65ae7c3afd14878a2ade9a931f2ab1f",
            "e1e3a17d4a764b4c8b3041572bad34ad",
            "899fab37e501484f80f72c4981f084c7",
            "c330942eae2e44d0bfa6d052c5251f7e",
            "334353d006b7419fa2b56d7f5e9162b5"
          ]
        },
        "id": "05txoUTVvkos",
        "outputId": "8edcf16b-2ef1-4233-a236-0d8dbbab2faf"
      },
      "execution_count": null,
      "outputs": [
        {
          "output_type": "stream",
          "name": "stderr",
          "text": [
            "/usr/local/lib/python3.10/dist-packages/huggingface_hub/utils/_auth.py:94: UserWarning: \n",
            "The secret `HF_TOKEN` does not exist in your Colab secrets.\n",
            "To authenticate with the Hugging Face Hub, create a token in your settings tab (https://huggingface.co/settings/tokens), set it as secret in your Google Colab and restart your session.\n",
            "You will be able to reuse this secret in all of your notebooks.\n",
            "Please note that authentication is recommended but still optional to access public models or datasets.\n",
            "  warnings.warn(\n"
          ]
        },
        {
          "output_type": "display_data",
          "data": {
            "text/plain": [
              "tokenizer_config.json:   0%|          | 0.00/49.0 [00:00<?, ?B/s]"
            ],
            "application/vnd.jupyter.widget-view+json": {
              "version_major": 2,
              "version_minor": 0,
              "model_id": "cdbe42dad2c54049be20b579d5861ce1"
            }
          },
          "metadata": {}
        },
        {
          "output_type": "display_data",
          "data": {
            "text/plain": [
              "config.json:   0%|          | 0.00/625 [00:00<?, ?B/s]"
            ],
            "application/vnd.jupyter.widget-view+json": {
              "version_major": 2,
              "version_minor": 0,
              "model_id": "42fa9045604d4223993bc6ec44d6fba0"
            }
          },
          "metadata": {}
        },
        {
          "output_type": "display_data",
          "data": {
            "text/plain": [
              "vocab.txt:   0%|          | 0.00/996k [00:00<?, ?B/s]"
            ],
            "application/vnd.jupyter.widget-view+json": {
              "version_major": 2,
              "version_minor": 0,
              "model_id": "b4f16b91b695493aa3f51d5d2922e926"
            }
          },
          "metadata": {}
        },
        {
          "output_type": "display_data",
          "data": {
            "text/plain": [
              "tokenizer.json:   0%|          | 0.00/1.96M [00:00<?, ?B/s]"
            ],
            "application/vnd.jupyter.widget-view+json": {
              "version_major": 2,
              "version_minor": 0,
              "model_id": "65f50c46dbe44d46b52579e64d277ed7"
            }
          },
          "metadata": {}
        },
        {
          "output_type": "display_data",
          "data": {
            "text/plain": [
              "model.safetensors:   0%|          | 0.00/714M [00:00<?, ?B/s]"
            ],
            "application/vnd.jupyter.widget-view+json": {
              "version_major": 2,
              "version_minor": 0,
              "model_id": "bca5c475486b4509b42c136fcd22349c"
            }
          },
          "metadata": {}
        }
      ]
    },
    {
      "cell_type": "code",
      "source": [
        "def check_vacancy(requirements, skills):\n",
        "  tok_req = tokenize_text(requirements)\n",
        "  tok_skills = tokenize_text(skills)\n",
        "  if tok_req == None or tok_skills == None:\n",
        "    return False\n",
        "  for i in tok_req:\n",
        "    for j in tok_skills:\n",
        "      if i == j:\n",
        "        return True\n",
        "  return False"
      ],
      "metadata": {
        "id": "20AJO3sdnD02"
      },
      "execution_count": null,
      "outputs": []
    },
    {
      "cell_type": "code",
      "source": [
        "def match_skills_and_requirements(requirements, skills):\n",
        "  if requirements == None or skills == None:\n",
        "    return 0\n",
        "  emb_requirements = get_word_embeddings(requirements)\n",
        "  emb_skills = get_word_embeddings(skills)\n",
        "  similarity = 0\n",
        "  max_similarity = 0\n",
        "  for i in emb_requirements:\n",
        "    for j in emb_skills:\n",
        "      similarity += cosine_similarity(i, j)\n",
        "      max_similarity += 1\n",
        "  return similarity / max_similarity"
      ],
      "metadata": {
        "id": "8KV8Su81MtM7"
      },
      "execution_count": null,
      "outputs": []
    },
    {
      "cell_type": "code",
      "source": [
        " #Россия, Белоруссия, Казахстан, Армения, Кыргызстан, Молдавия, Таджикистан"
      ],
      "metadata": {
        "id": "Q8bH_wQdNExf"
      },
      "execution_count": null,
      "outputs": []
    },
    {
      "cell_type": "code",
      "source": [
        "currency = {'RUB': 1,\n",
        "            'BYN': 31.05,\n",
        "            'KZT': 0.19,\n",
        "            'AMD': 0.25,\n",
        "            'KGS': 1.16,\n",
        "            'MDL': 5.5,\n",
        "            'TJS': 9.22,\n",
        "            'UZS': 0.0078}"
      ],
      "metadata": {
        "id": "NmTa_a7dM6C8"
      },
      "execution_count": null,
      "outputs": []
    },
    {
      "cell_type": "code",
      "source": [
        "def match_vacancies(vacancies, resume):\n",
        "  similarity_with_vacancies = {}\n",
        "  idx = 0\n",
        "  for vacancy in vacancies:\n",
        "    similarity = 0\n",
        "    idx += 1\n",
        "    print(idx)\n",
        "    if resume.country != \"\" and vacancy.country != \"\" and vacancy.country != resume.country:\n",
        "      continue\n",
        "    if resume.city != \"\" and vacancy.city != \"\" and vacancy.city != resume.city:\n",
        "      continue\n",
        "    if vacancy.remote_work == False and resume.remote_work == True:\n",
        "      continue\n",
        "    if check_vacancy(vacancy.requirements, resume.additional_information) == False:\n",
        "      continue\n",
        "    if vacancy.salary[0] != None and vacancy.salary[2] in currency:\n",
        "       if vacancy.salary[1] != None and resume.salary * 0.9 <= vacancy.salary[1] * currency[vacancy.salary[2]]:\n",
        "          similarity += 0.1\n",
        "       elif vacancy.salary[1] == None and resume.salary * 1.1 >= vacancy.salary[0] * currency[vacancy.salary[2]]:\n",
        "          similarity += 0.1\n",
        "    experience_min = 0\n",
        "    if vacancy.experience == 'От 1 года до 3 лет':\n",
        "      experience_min = 1\n",
        "    elif vacancy.experience == 'От 3 до 6 лет':\n",
        "      experience_min = 3\n",
        "    elif vacancy.experience == 'Более 6 лет':\n",
        "      experience_min = 6\n",
        "    if resume.experience >= experience_min:\n",
        "      similarity += 0.1\n",
        "    similarity += match_skills_and_requirements(vacancy.requirements, resume.additional_information)\n",
        "    similarity += match_skills_and_requirements(vacancy.job_title, resume.job_title)\n",
        "    if similarity in similarity_with_vacancies:\n",
        "      similarity_with_vacancies[similarity].append(vacancy)\n",
        "    else:\n",
        "      similarity_with_vacancies[similarity] = [vacancy]\n",
        "  return similarity_with_vacancies"
      ],
      "metadata": {
        "id": "q0RuzopzaYdb"
      },
      "execution_count": null,
      "outputs": []
    },
    {
      "cell_type": "code",
      "source": [
        "resume = Resume(resume_id = 1,\n",
        "                user_id = 1,\n",
        "                additional_information = \"автомобиль\")"
      ],
      "metadata": {
        "id": "84KHm1BrWfli"
      },
      "execution_count": null,
      "outputs": []
    },
    {
      "cell_type": "code",
      "source": [
        "print(hh_vacancies[:10])"
      ],
      "metadata": {
        "colab": {
          "base_uri": "https://localhost:8080/"
        },
        "id": "VsC0QTChwjfH",
        "outputId": "8fce9d94-402e-4f8d-daf0-a52bfd6bfb1f"
      },
      "execution_count": null,
      "outputs": [
        {
          "output_type": "stream",
          "name": "stdout",
          "text": [
            "[Vacancy(vacancy_id=112489227, job_title='SMM-специалист', response_letter_required=False, country='Беларусь', city='Минск', district='улица Чеботарёва', salary=[None, None, None], office_address='Минск, улица Чеботарёва, 7А', subway_station='Тракторный завод', employer_information='Макси Бай Медиа', requirements='Есть опыт работы с клиентами или в интернет-агентстве? - Умеете презентовать, доказывать свою точку зрения? - Готовы к динамичной работе в...', work_schedule_working_days=None, work_schedule_time_intervals=None, experience='От 1 года до 3 лет', remote_work=False), Vacancy(vacancy_id=112482071, job_title='Водитель персональный', response_letter_required=False, country='Казахстан', city='Астана', district='улица Акмола', salary=[500000, 800000, 'KZT'], office_address='Астана, улица Акмола', subway_station='', employer_information='Андеграунд', requirements='1. Строгое соблюдение стандартов сервиса и дресс-кода (костюм, галстук, туфли). 3. Пунктуальность — обязательное требование. 2. Отправьте копии удостоверения личности...', work_schedule_working_days=None, work_schedule_time_intervals=None, experience='От 1 года до 3 лет', remote_work=False), Vacancy(vacancy_id=112520773, job_title='Техник по электрике и КИП', response_letter_required=True, country='Казахстан', city='', district='', salary=[None, None, None], office_address='', subway_station='', employer_information='Эр Ликид Мунай Тех Газы', requirements='Опыт работы 2 года на производстве. Глубокое понимание сборки и разборки, электрического и контрольно-измерительного оборудования. Образование - электрика или приборостроение. ', work_schedule_working_days=None, work_schedule_time_intervals=None, experience='От 1 года до 3 лет', remote_work=False), Vacancy(vacancy_id=112474868, job_title='Водитель', response_letter_required=False, country='Казахстан', city='Астана', district='Кургальжинское шоссе', salary=[350000, 350000, 'KZT'], office_address='Астана, Кургальжинское шоссе, 3', subway_station='', employer_information='GQ-Group Invest', requirements='Сообщать о любых нарушениях своего здоровья и не употреблять алкоголь или лекарства, влияющие на реакцию. Иметь личный автомобиль комфорт класса.', work_schedule_working_days=None, work_schedule_time_intervals=None, experience='От 3 до 6 лет', remote_work=False), Vacancy(vacancy_id=110324143, job_title='Менеджер по продажам', response_letter_required=False, country='Казахстан', city='Алматы', district='Коммунальная улица', salary=[300000, 700000, 'KZT'], office_address='Алматы, Коммунальная улица, 3Б', subway_station='Райымбек батыра', employer_information='Казахстан металл курылысы', requirements='Грамотная речь и активность, а также амбициозность и желание развиваться. - Опыт телефонных переговоров и продаж будет большим плюсом! - ', work_schedule_working_days=None, work_schedule_time_intervals=None, experience='От 3 до 6 лет', remote_work=False), Vacancy(vacancy_id=112522255, job_title='Личный водитель в семью', response_letter_required=False, country='Россия', city='деревня Воронино', district=None, salary=[150000, 150000, 'RUR'], office_address='деревня Воронино', subway_station='', employer_information='Гаева Анастасия Олеговна', requirements='Пунктуальность, трудолюбие, ответственность. Соблюдение субординации. Стаж вождения по правам не менее 10 лет. Умение пользоваться навигатором. Хорошая ориентация по Москве. ', work_schedule_working_days=None, work_schedule_time_intervals=None, experience='Более 6 лет', remote_work=False), Vacancy(vacancy_id=111787160, job_title='Продавец-консультант (бьюти-продукции)', response_letter_required=False, country='Россия', city='Санкт-Петербург', district='Центральный район, улица Некрасова', salary=[None, None, None], office_address='Санкт-Петербург, Центральный район, улица Некрасова, 34', subway_station='Площадь Восстания', employer_information='Aurum Queen', requirements=None, work_schedule_working_days=None, work_schedule_time_intervals=None, experience='От 1 года до 3 лет', remote_work=False), Vacancy(vacancy_id=112498012, job_title='Персональный водитель', response_letter_required=False, country='Казахстан', city='Астана', district='улица Шамши Калдаякова', salary=[300000, 350000, 'KZT'], office_address='Астана, улица Шамши Калдаякова, 29', subway_station='', employer_information='МФО Express Finance Group', requirements='Опыт работы персональным водителем не менее 3-х лет. Стрессоустойчивость, дисциплинированность и пунктуальность. Отличное знание города и его окрестностей. ', work_schedule_working_days=None, work_schedule_time_intervals=None, experience='Более 6 лет', remote_work=False), Vacancy(vacancy_id=112508852, job_title='Охранник на дневную смену в рабочий поселок', response_letter_required=False, country='Казахстан', city='Алматы', district='улица Кудерина', salary=[200000, None, 'KZT'], office_address='Алматы, улица Кудерина, 65Б', subway_station='', employer_information='MSC Trade', requirements='Ответственность.', work_schedule_working_days=None, work_schedule_time_intervals=None, experience='Нет опыта', remote_work=False), Vacancy(vacancy_id=112469498, job_title='Исполнительный директор/Executive Director', response_letter_required=False, country='Россия', city='', district='', salary=[650000, 950000, 'RUR'], office_address='', subway_station='', employer_information='BRAMTON', requirements='Опыт работы на руководящих должностях в сфере управления бизнесом. Сильные коммуникативные и организационные навыки. Способность принимать стратегические решения и работать...', work_schedule_working_days=None, work_schedule_time_intervals=None, experience='От 3 до 6 лет', remote_work=False)]\n"
          ]
        }
      ]
    },
    {
      "cell_type": "code",
      "source": [
        "sim = match_vacancies(hh_vacancies[:200], resume)\n",
        "sim = sorted(sim.items(), reverse = True)\n",
        "num = 10\n",
        "print(sim[:num])"
      ],
      "metadata": {
        "colab": {
          "base_uri": "https://localhost:8080/"
        },
        "id": "0Z0chTOGjNil",
        "outputId": "2bcae3b4-06e5-473b-e857-02460c437fca"
      },
      "execution_count": null,
      "outputs": [
        {
          "output_type": "stream",
          "name": "stdout",
          "text": [
            "1\n",
            "2\n",
            "3\n",
            "4\n",
            "5\n",
            "6\n",
            "7\n",
            "8\n",
            "9\n",
            "10\n",
            "11\n",
            "12\n",
            "13\n",
            "14\n",
            "[(0.7769478559494019, [Vacancy(vacancy_id=112627427, job_title='Личный водитель', response_letter_required=False, country='Россия', city='Москва', district='Пресненская набережная', salary=[120000, None, 'RUR'], office_address='Москва, Пресненская набережная, 10с2', subway_station='', employer_information='Такс Комплаенс', requirements='Обязательное наличие прав категории В. Знание ПДД, административного законодательства в области ДД. Знание устройства автомобиля, его технических характеристик. ', work_schedule_working_days=None, work_schedule_time_intervals=None, experience='Более 6 лет', remote_work=False)]), (0.7516686916351318, [Vacancy(vacancy_id=112608260, job_title='Водитель-экспедитор', response_letter_required=False, country='Россия', city='Нижний Новгород', district='Московское шоссе', salary=[80000, 100000, 'RUR'], office_address='Нижний Новгород, Московское шоссе, 302/1', subway_station='', employer_information='Планета Шин', requirements='Водитель категории С. Знание автомобиля. Владение навыками заполнения путевых листов, оформления ТТН. Аккуратность, ответственность, желание работать. Опыт работы на межгороде...', work_schedule_working_days=None, work_schedule_time_intervals=None, experience='От 1 года до 3 лет', remote_work=False)]), (0.7508313059806824, [Vacancy(vacancy_id=112330904, job_title='Водитель-экспедитор категории В', response_letter_required=False, country='Беларусь', city='Минск', district='Минская кольцевая автомобильная дорога', salary=[2800, None, 'BYR'], office_address='Минск, Минская кольцевая автомобильная дорога, 21', subway_station='', employer_information='Европейская Транспортная Компания', requirements='Ответственность за техническое состояние автомобиля. Требования: Ответственность, опрятность, опыт подобной работы не менее 1 года, коммуникабельность, знание техники. ', work_schedule_working_days=None, work_schedule_time_intervals=None, experience='От 1 года до 3 лет', remote_work=False)]), (0.7497284412384033, [Vacancy(vacancy_id=112595789, job_title='Водитель', response_letter_required=False, country='Казахстан', city='Астана', district='проспект Мангилик Ел', salary=[300000, 350000, 'KZT'], office_address='Астана, проспект Мангилик Ел, 20', subway_station='', employer_information='Мерей-Инжиниринг LTD', requirements='Личный автомобиль.', work_schedule_working_days=None, work_schedule_time_intervals=None, experience='От 1 года до 3 лет', remote_work=False)]), (0.7365811467170715, [Vacancy(vacancy_id=112622781, job_title='Персональный водитель', response_letter_required=False, country='Россия', city='Москва', district='Старопименовский переулок', salary=[130000, 130000, 'RUR'], office_address='Москва, Старопименовский переулок', subway_station='Маяковская', employer_information='Представительство компании Шайн Бизнес корп', requirements='Опыт работы Персональным водителем от 5-ти лет. Хорошее знание Москвы. Опыт работы на премиальных автомобилях. Пунктуальность, внимательность, вежливость. ', work_schedule_working_days=None, work_schedule_time_intervals=None, experience='От 3 до 6 лет', remote_work=False)]), (0.7360983490943909, [Vacancy(vacancy_id=112626762, job_title='Персональный водитель генерального директора', response_letter_required=False, country='Россия', city='', district='', salary=[120000, None, 'RUR'], office_address='', subway_station='', employer_information='РАМ ГРУПП', requirements='Опыт сопровождения кортежа обязателен. Опыт работы на автомобилях премиум класса ОБЯЗАТЕЛЕН! Опыт работы на аналогичной должности от 3 лет. ', work_schedule_working_days=None, work_schedule_time_intervals=None, experience='От 3 до 6 лет', remote_work=False)]), (0.7337945699691772, [Vacancy(vacancy_id=112579587, job_title='Водитель-экспедитор', response_letter_required=False, country='Беларусь', city='Озерцо', district=None, salary=[2200, None, 'BYR'], office_address='Озерцо', subway_station='', employer_information='Виктория-опт', requirements='Водительское удостоверение категории \"В\". Опыт работы водителем автомобиля. Внимательность при выгрузке товара.', work_schedule_working_days=None, work_schedule_time_intervals=None, experience='От 1 года до 3 лет', remote_work=False)]), (0.7330058217048645, [Vacancy(vacancy_id=112580287, job_title='Семейный водитель', response_letter_required=False, country='Россия', city='рабочий посёлок Заречье', district='жилой комплекс Сколково Парк', salary=[160000, None, 'RUR'], office_address='рабочий посёлок Заречье, жилой комплекс Сколково Парк', subway_station='', employer_information='Михайлов Максим Евгеньевич', requirements='Права категории \"В\". Водительский стаж не менее 5 лет. Опыт обслуживания автомобилей представительского класса. Опыт работы с детьми. ', work_schedule_working_days=None, work_schedule_time_intervals=None, experience='От 3 до 6 лет', remote_work=False)]), (0.7273181676864624, [Vacancy(vacancy_id=112582511, job_title='Водитель легкового автомобиля', response_letter_required=False, country='Россия', city='', district='', salary=[60000, None, 'RUR'], office_address='', subway_station='', employer_information='Прагма', requirements='Умение пользоваться навигатором. Водительские права категории В. Желание работать и развиваться. Клиентоориентированность. Пунктуальность. Формат работы разъездной, корпоративный автомобиль не предоставляется!', work_schedule_working_days=None, work_schedule_time_intervals=None, experience='От 1 года до 3 лет', remote_work=False), Vacancy(vacancy_id=112581540, job_title='Водитель легкового автомобиля', response_letter_required=False, country='Россия', city='', district='', salary=[60000, None, 'RUR'], office_address='', subway_station='', employer_information='Прагма', requirements='Умение пользоваться навигатором. Водительские права категории В. Желание работать и развиваться. Клиентоориентированность. Пунктуальность. Формат работы разъездной, корпоративный автомобиль не предоставляется!', work_schedule_working_days=None, work_schedule_time_intervals=None, experience='От 1 года до 3 лет', remote_work=False)]), (0.7217642068862915, [Vacancy(vacancy_id=112593600, job_title='Водитель в семью', response_letter_required=False, country='Казахстан', city='', district='', salary=[300000, 400000, 'KZT'], office_address='', subway_station='', employer_information='Aipack', requirements='Имеющего опыт работы в семье. Аккуратное вождение. Порядочность. Пунктуальность. Наличие собственного автомобиля.', work_schedule_working_days=None, work_schedule_time_intervals=None, experience='Более 6 лет', remote_work=False)])]\n"
          ]
        }
      ]
    },
    {
      "cell_type": "code",
      "source": [
        "resume = Resume(resume_id = 1,\n",
        "                user_id = 1,\n",
        "                additional_information = \"большой опыт в продажах\")\n",
        "sim = match_vacancies(hh_vacancies[:200], resume)\n",
        "sim = sorted(sim.items(), reverse = True)\n",
        "num = 10\n",
        "print(sim[:num])"
      ],
      "metadata": {
        "colab": {
          "base_uri": "https://localhost:8080/"
        },
        "id": "JR2HRafpKOCw",
        "outputId": "14cc505d-388a-43e5-d6a6-1ff8cf5810e4"
      },
      "execution_count": null,
      "outputs": [
        {
          "output_type": "stream",
          "name": "stdout",
          "text": [
            "1\n",
            "2\n",
            "3\n",
            "4\n",
            "[(0.8875036835670471, [Vacancy(vacancy_id=112577058, job_title='Менеджер группы прямых продаж (DSA)', response_letter_required=False, country='Россия', city='', district='', salary=[60000, None, 'RUR'], office_address='', subway_station='', employer_information='Банк ВТБ (ПАО)', requirements='Среднее/среднее профессиональное, незаконченное/высшее образование. Опыт работы в продажах будет являться преимуществом. Желание развиваться в банковской сфере. ', work_schedule_working_days=None, work_schedule_time_intervals=None, experience='Нет опыта', remote_work=False)]), (0.8583747744560242, [Vacancy(vacancy_id=112622889, job_title='Менеджер по обучению и развитию', response_letter_required=False, country='Россия', city='Москва', district=None, salary=[280000, None, 'RUR'], office_address='Москва', subway_station='Таганская', employer_information='Alta Personnel', requirements='Высшее профессиональное образование (медицинское, фармацевтическое, психологическое или любое другое). Опыт работы менеджером по продажам в фарм. индустрии от 2-х...', work_schedule_working_days=None, work_schedule_time_intervals=None, experience='От 3 до 6 лет', remote_work=False)]), (0.8081098794937134, [Vacancy(vacancy_id=112567894, job_title='Торговый представитель', response_letter_required=False, country='Узбекистан', city='', district='', salary=[4000000, 10000000, 'UZS'], office_address='', subway_station='', employer_information='EKOPEN', requirements='Опыт работы в продажах или развитии дилерской сети от 1 года. - Отличные навыки коммуникации и ведения переговоров. - Умение работать в...', work_schedule_working_days=None, work_schedule_time_intervals=None, experience='От 1 года до 3 лет', remote_work=False)]), (0.7844401001930237, [Vacancy(vacancy_id=112570619, job_title='Менеджер продукта (услуги)', response_letter_required=False, country='Россия', city='Магнитогорск', district='проспект Пушкина', salary=[97000, 117000, 'RUR'], office_address='Магнитогорск, проспект Пушкина, 2', subway_station='', employer_information='Магнитогорский металлургический комбинат', requirements='В менеджменте и управлении проектами: опыт управления проектами или командами, умение планировать и координировать работу. В маркетинге и продажах: понимание...', work_schedule_working_days=None, work_schedule_time_intervals=None, experience='От 1 года до 3 лет', remote_work=False)])]\n"
          ]
        }
      ]
    },
    {
      "cell_type": "code",
      "source": [],
      "metadata": {
        "colab": {
          "base_uri": "https://localhost:8080/"
        },
        "id": "KwhyWB9F_GdS",
        "outputId": "8d5550ca-118c-4b33-ccc3-65a761c1a88c"
      },
      "execution_count": 1,
      "outputs": [
        {
          "output_type": "stream",
          "name": "stdout",
          "text": [
            "Requirement already satisfied: sqlalchemy in /usr/local/lib/python3.10/dist-packages (2.0.36)\n",
            "Requirement already satisfied: typing-extensions>=4.6.0 in /usr/local/lib/python3.10/dist-packages (from sqlalchemy) (4.12.2)\n",
            "Requirement already satisfied: greenlet!=0.4.17 in /usr/local/lib/python3.10/dist-packages (from sqlalchemy) (3.1.1)\n"
          ]
        }
      ]
    },
    {
      "cell_type": "code",
      "source": [
        "resume = Resume(resume_id = 1,\n",
        "                user_id = 1,\n",
        "                additional_information = \"автомобили\")\n",
        "sim = match_vacancies(hh_vacancies[:30], resume)\n",
        "sim = sorted(sim.items(), reverse = True)\n",
        "num = 10\n",
        "print(sim[:num])"
      ],
      "metadata": {
        "colab": {
          "base_uri": "https://localhost:8080/"
        },
        "id": "kXCj501Wx89L",
        "outputId": "e1680653-49f3-4331-e0be-0e211fbabd59"
      },
      "execution_count": null,
      "outputs": [
        {
          "output_type": "stream",
          "name": "stdout",
          "text": [
            "1\n",
            "2\n",
            "3\n",
            "4\n",
            "5\n",
            "6\n",
            "7\n",
            "8\n",
            "9\n",
            "10\n",
            "11\n",
            "12\n",
            "13\n",
            "14\n",
            "15\n",
            "16\n",
            "17\n",
            "18\n",
            "19\n",
            "20\n",
            "21\n",
            "22\n",
            "23\n",
            "24\n",
            "25\n",
            "26\n",
            "27\n",
            "28\n",
            "29\n",
            "30\n",
            "[(1.721099591255188, [Vacancy(vacancy_id=112593600, job_title='Водитель в семью', response_letter_required=False, country='Казахстан', city='', district='', salary=[300000, 400000, 'KZT'], office_address='', subway_station='', employer_information='Aipack', requirements='Имеющего опыт работы в семье. Аккуратное вождение. Порядочность. Пунктуальность. Наличие собственного автомобиля.', work_schedule_working_days=None, work_schedule_time_intervals=None, experience='Более 6 лет', remote_work=False)]), (1.7121224761009217, [Vacancy(vacancy_id=112595789, job_title='Водитель', response_letter_required=False, country='Казахстан', city='Астана', district='проспект Мангилик Ел', salary=[300000, 350000, 'KZT'], office_address='Астана, проспект Мангилик Ел, 20', subway_station='', employer_information='Мерей-Инжиниринг LTD', requirements='Личный автомобиль.', work_schedule_working_days=None, work_schedule_time_intervals=None, experience='От 1 года до 3 лет', remote_work=False)]), (1.644952654838562, [Vacancy(vacancy_id=112622781, job_title='Водитель автомобиля сопровождения', response_letter_required=False, country='Россия', city='Москва', district='Старопименовский переулок', salary=[130000, 130000, 'RUR'], office_address='Москва, Старопименовский переулок', subway_station='Маяковская', employer_information='Представительство компании Шайн Бизнес корп', requirements='Опыт работы Персональным водителем от 5-ти лет. Хорошее знание Москвы. Опыт работы на премиальных автомобилях. Пунктуальность, внимательность, вежливость. ', work_schedule_working_days=None, work_schedule_time_intervals=None, experience='От 3 до 6 лет', remote_work=False)]), (1.636888325214386, [Vacancy(vacancy_id=112580287, job_title='Семейный водитель', response_letter_required=False, country='Россия', city='рабочий посёлок Заречье', district='жилой комплекс Сколково Парк', salary=[160000, None, 'RUR'], office_address='рабочий посёлок Заречье, жилой комплекс Сколково Парк', subway_station='', employer_information='Михайлов Максим Евгеньевич', requirements='Права категории \"В\". Водительский стаж не менее 5 лет. Опыт обслуживания автомобилей представительского класса. Опыт работы с детьми. ', work_schedule_working_days=None, work_schedule_time_intervals=None, experience='От 3 до 6 лет', remote_work=False)]), (1.5607702136039734, [Vacancy(vacancy_id=112626762, job_title='Персональный водитель генерального директора', response_letter_required=False, country='Россия', city='', district='', salary=[120000, None, 'RUR'], office_address='', subway_station='', employer_information='РАМ ГРУПП', requirements='Опыт сопровождения кортежа обязателен. Опыт работы на автомобилях премиум класса ОБЯЗАТЕЛЕН! Опыт работы на аналогичной должности от 3 лет. ', work_schedule_working_days=None, work_schedule_time_intervals=None, experience='От 3 до 6 лет', remote_work=False)])]\n"
          ]
        }
      ]
    }
  ]
}